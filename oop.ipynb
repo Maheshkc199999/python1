{
 "cells": [
  {
   "cell_type": "raw",
   "id": "6477bff3",
   "metadata": {},
   "source": [
    "#class is the blueprint of objects."
   ]
  },
  {
   "cell_type": "code",
   "execution_count": 4,
   "id": "d88b55b2",
   "metadata": {},
   "outputs": [],
   "source": [
    "# class <class_name>:\n",
    "#     <mehtods>\n",
    "#     <methods>\n",
    "# obj=<class_name>()"
   ]
  },
  {
   "cell_type": "code",
   "execution_count": 1,
   "id": "2fa4ea36",
   "metadata": {},
   "outputs": [
    {
     "ename": "TypeError",
     "evalue": "Hello.hello() takes 0 positional arguments but 1 was given",
     "output_type": "error",
     "traceback": [
      "\u001b[1;31m---------------------------------------------------------------------------\u001b[0m",
      "\u001b[1;31mTypeError\u001b[0m                                 Traceback (most recent call last)",
      "Cell \u001b[1;32mIn[1], line 5\u001b[0m\n\u001b[0;32m      3\u001b[0m         \u001b[38;5;28mprint\u001b[39m(\u001b[38;5;124m\"\u001b[39m\u001b[38;5;124mhello world\u001b[39m\u001b[38;5;124m\"\u001b[39m)\n\u001b[0;32m      4\u001b[0m obj\u001b[38;5;241m=\u001b[39mHello()\n\u001b[1;32m----> 5\u001b[0m \u001b[43mobj\u001b[49m\u001b[38;5;241;43m.\u001b[39;49m\u001b[43mhello\u001b[49m\u001b[43m(\u001b[49m\u001b[43m)\u001b[49m\n",
      "\u001b[1;31mTypeError\u001b[0m: Hello.hello() takes 0 positional arguments but 1 was given"
     ]
    }
   ],
   "source": [
    "class Hello:\n",
    "    def hello():\n",
    "        print(\"hello world\")\n",
    "obj=Hello()\n",
    "obj.hello()"
   ]
  },
  {
   "cell_type": "code",
   "execution_count": null,
   "id": "a8446c4d",
   "metadata": {},
   "outputs": [],
   "source": [
    "class Hello:\n",
    "    def hello(self):\n",
    "        print(\"hello world\")\n",
    "obj=Hello()\n",
    "obj.hello()"
   ]
  },
  {
   "cell_type": "code",
   "execution_count": 2,
   "id": "e3bce7cf",
   "metadata": {},
   "outputs": [
    {
     "name": "stdout",
     "output_type": "stream",
     "text": [
      "hello world\n"
     ]
    }
   ],
   "source": [
    "class Hello:\n",
    "    @staticmethod\n",
    "    def hello():\n",
    "        print(\"hello world\")\n",
    "obj=Hello()\n",
    "obj.hello()"
   ]
  },
  {
   "cell_type": "code",
   "execution_count": 9,
   "id": "8cd3e94f",
   "metadata": {},
   "outputs": [
    {
     "data": {
      "text/plain": [
       "60"
      ]
     },
     "execution_count": 9,
     "metadata": {},
     "output_type": "execute_result"
    }
   ],
   "source": [
    "class Area:\n",
    "    @staticmethod\n",
    "    def area(l,b):\n",
    "        return l*b\n",
    "    @staticmethod\n",
    "    def volume(l,b,h):\n",
    "        return l*b*h\n",
    "obj =Area()\n",
    "obj.area(10,11)\n",
    "obj.volume(10,2,3)  "
   ]
  },
  {
   "cell_type": "code",
   "execution_count": 10,
   "id": "b5c4941a",
   "metadata": {},
   "outputs": [
    {
     "name": "stdout",
     "output_type": "stream",
     "text": [
      "50\n",
      "100\n"
     ]
    }
   ],
   "source": [
    "class Cal:\n",
    "    def __init__(self,l,b,h):\n",
    "        self.l=l\n",
    "        self.b=b\n",
    "        self.d=h\n",
    "    def area(self):\n",
    "        a = self.l*self.b\n",
    "        print(a)\n",
    "    def volume(self):\n",
    "        v = self.l*self.b*self.d\n",
    "        print(v)\n",
    "obj=Cal(10,5,2)\n",
    "obj.area()\n",
    "obj.volume()"
   ]
  },
  {
   "cell_type": "code",
   "execution_count": 12,
   "id": "bff1ede2",
   "metadata": {},
   "outputs": [
    {
     "name": "stdout",
     "output_type": "stream",
     "text": [
      "50\n",
      "150\n"
     ]
    }
   ],
   "source": [
    "class Cal:\n",
    "    def __init__(self,l,b):\n",
    "        self.l=l\n",
    "        self.b=b\n",
    "    def area(self):\n",
    "        a = self.l*self.b\n",
    "        print(a)\n",
    "    def volume(self,h):\n",
    "        v = self.l*self.b*h\n",
    "        print(v)\n",
    "obj=Cal(10,5)\n",
    "obj.area()\n",
    "obj.volume(3)"
   ]
  },
  {
   "cell_type": "code",
   "execution_count": 13,
   "id": "2417240e",
   "metadata": {},
   "outputs": [
    {
     "name": "stdout",
     "output_type": "stream",
     "text": [
      "enter l= 4\n",
      "enter b= 5\n",
      "enter h= 6\n",
      "20\n",
      "120\n",
      "4 5 6\n"
     ]
    }
   ],
   "source": [
    "class Cal:\n",
    "    def __init__(self):\n",
    "        self.l=int(input(\"enter l= \"))\n",
    "        self.b=int(input(\"enter b= \"))\n",
    "        self.d=int(input(\"enter h= \"))\n",
    "    def area(self):\n",
    "        a = self.l*self.b\n",
    "        print(a)\n",
    "    def volume(self):\n",
    "        v = self.l*self.b*self.d\n",
    "        print(v)\n",
    "obj=Cal()\n",
    "obj.area()\n",
    "obj.volume()\n",
    "print(obj.l,obj.b,obj.d)"
   ]
  },
  {
   "cell_type": "code",
   "execution_count": 3,
   "id": "e1d908bd",
   "metadata": {},
   "outputs": [
    {
     "name": "stdout",
     "output_type": "stream",
     "text": [
      "Enter name= Ram\n",
      "Enter age= 44\n",
      "Enter add= kathmandu\n",
      "Ram\n",
      "<class '__main__.Info'>\n",
      "Ram\n",
      "Ram\n"
     ]
    }
   ],
   "source": [
    "# __str__\n",
    "class Info:\n",
    "    def __init__(self):\n",
    "        self.name=input(\"Enter name= \")\n",
    "        self.age=int(input(\"Enter age= \"))\n",
    "        self.add=input(\"Enter add= \")\n",
    "    def __str__(self):\n",
    "        return self.name\n",
    "obj = Info()\n",
    "print(obj)\n",
    "print(type(obj))\n",
    "print(obj.__str__())\n",
    "print(str(obj))"
   ]
  },
  {
   "cell_type": "code",
   "execution_count": 5,
   "id": "42a3424f",
   "metadata": {},
   "outputs": [],
   "source": [
    "# # Inheritance\n",
    "\n",
    "# class A:\n",
    "#     pass\n",
    "# class B(A):\n",
    "#     pass\n",
    "# obj=B()"
   ]
  },
  {
   "cell_type": "code",
   "execution_count": 9,
   "id": "80da8e9f",
   "metadata": {},
   "outputs": [
    {
     "name": "stdout",
     "output_type": "stream",
     "text": [
      "Enter name: Ram\n",
      "Enter age: 33\n",
      "Enter add:Kathmandu\n",
      "Helllo i'm Ram .im fromKathmandu.Im 33\n",
      "Ram 33 Kathmandu\n"
     ]
    }
   ],
   "source": [
    "class Info():\n",
    "    def __init__(self):\n",
    "        self.name=input(\"Enter name: \")\n",
    "        self.age=int(input('Enter age: '))\n",
    "        self.add=input(\"Enter add:\")\n",
    "    def info(self):\n",
    "        print(self.name,self.age,self.add)\n",
    "class Data(Info):\n",
    "    def data(self):\n",
    "        return f\"Helllo i'm {self.name} .im from {self.add}.Im {self.age}\"\n",
    "obj = Data()\n",
    "print(obj.data())\n",
    "obj.info()"
   ]
  },
  {
   "cell_type": "code",
   "execution_count": 10,
   "id": "2c0f0bb3",
   "metadata": {},
   "outputs": [
    {
     "name": "stdout",
     "output_type": "stream",
     "text": [
      "Enter name: Ram\n",
      "Enter age: 33\n",
      "Enter add:Kathmandu\n",
      "Helllo i'm Ram .im from Kathmandu.Im 33\n",
      "Ram 33 Kathmandu\n"
     ]
    }
   ],
   "source": [
    "class Info():\n",
    "    def __init__(self,name,age,add):\n",
    "        self.name=name\n",
    "        self.age=age\n",
    "        self.add=add\n",
    "    def info(self):\n",
    "        print(self.name,self.age,self.add)\n",
    "class Data(Info):\n",
    "    def data(self):\n",
    "        return f\"Helllo i'm {self.name} .im from {self.add}.Im {self.age}\"\n",
    "name=input(\"Enter name: \")\n",
    "age=int(input('Enter age: '))\n",
    "add=input(\"Enter add:\")\n",
    "obj = Data(name,age,add)\n",
    "print(obj.data())\n",
    "obj.info()"
   ]
  },
  {
   "cell_type": "code",
   "execution_count": 12,
   "id": "6daab67c",
   "metadata": {},
   "outputs": [],
   "source": [
    "# # multilevel inheritance\n",
    "# class A():\n",
    "#     pass\n",
    "# class B(A):\n",
    "#     pass\n",
    "# class C(B):\n",
    "#     pass\n",
    "# obj = C()"
   ]
  },
  {
   "cell_type": "code",
   "execution_count": 14,
   "id": "8d005fad",
   "metadata": {},
   "outputs": [],
   "source": [
    "# # multiple inheritance\n",
    "# class A():\n",
    "#     pass\n",
    "# class B:\n",
    "#     pass\n",
    "# class C(A,B):\n",
    "#     pass\n",
    "# obj = C()"
   ]
  },
  {
   "cell_type": "code",
   "execution_count": 17,
   "id": "f7aaa5ca",
   "metadata": {},
   "outputs": [
    {
     "name": "stdout",
     "output_type": "stream",
     "text": [
      "Enter name: Ram\n",
      "Enter age: 33\n",
      "Enter add:Kathnmandu\n",
      "Helllo i'm Ram .im from Kathnmandu.Im 33\n",
      "Ram 33 Kathnmandu\n"
     ]
    }
   ],
   "source": [
    "class Info():\n",
    "    def __init__(self,age,add):\n",
    "        self.age=age\n",
    "        self.add=add\n",
    "    def info(self):\n",
    "        print(self.name,self.age,self.add)\n",
    "class Data(Info):\n",
    "    def __init__(self,name,age,add):\n",
    "        self.name=name\n",
    "        Info.__init__(self,age,add)\n",
    "    def data(self):\n",
    "        return f\"Helllo i'm {self.name} .im from {self.add}.Im {self.age}\"\n",
    "name=input(\"Enter name: \")\n",
    "age=int(input('Enter age: '))\n",
    "add=input(\"Enter add:\")\n",
    "obj = Data(name,age,add)\n",
    "print(obj.data())\n",
    "obj.info()"
   ]
  },
  {
   "cell_type": "code",
   "execution_count": 18,
   "id": "f2d99a3e",
   "metadata": {},
   "outputs": [
    {
     "name": "stdout",
     "output_type": "stream",
     "text": [
      "Enter name: Ram\n",
      "Enter age: 33\n",
      "Enter add:Kathmandu\n",
      "Helllo i'm Ram .im from Kathmandu.Im 33\n",
      "Ram 33 Kathmandu\n"
     ]
    }
   ],
   "source": [
    "class Address():\n",
    "    def __init__(self,add):\n",
    "        self.add=add\n",
    "class Info(Address):\n",
    "    def __init__(self,age,add):\n",
    "        self.age=age\n",
    "        Address.__init__(self,add)\n",
    "    def info(self):\n",
    "        print(self.name,self.age,self.add)\n",
    "class Data(Info):\n",
    "    def __init__(self,name,age,add):\n",
    "        self.name=name\n",
    "        Info.__init__(self,age,add)\n",
    "    def data(self):\n",
    "        return f\"Helllo i'm {self.name} .im from {self.add}.Im {self.age}\"\n",
    "name=input(\"Enter name: \")\n",
    "age=int(input('Enter age: '))\n",
    "add=input(\"Enter add:\")\n",
    "obj = Data(name,age,add)\n",
    "print(obj.data())\n",
    "obj.info()"
   ]
  },
  {
   "cell_type": "code",
   "execution_count": 35,
   "id": "da547686",
   "metadata": {},
   "outputs": [
    {
     "name": "stdout",
     "output_type": "stream",
     "text": [
      "Enter name: Ram\n",
      "Enter age: 55\n",
      "Enter add:Kathmandu\n",
      "Helllo i'm Ram .im from Kathmandu.Im 55\n",
      "55\n"
     ]
    }
   ],
   "source": [
    "class Add:\n",
    "    def __init__(self,add):\n",
    "        self.add=add\n",
    "    def add(self):\n",
    "        print(self.add)\n",
    "class Info:\n",
    "    def __init__(self,age):\n",
    "        self.age=age\n",
    "    def info(self):\n",
    "        print(self.age)\n",
    "class Data(Add,Info):\n",
    "        def __init__(self,name,age,add):\n",
    "            self.name=name\n",
    "            Add.__init__(self,add)\n",
    "            Info.__init__(self,age)\n",
    "        def data(self):\n",
    "            return f\"Helllo i'm {self.name} .im from {self.add}.Im {self.age}\"\n",
    "\n",
    "name=input(\"Enter name: \")\n",
    "age=int(input('Enter age: '))\n",
    "add=input(\"Enter add:\")\n",
    "obj = Data(name,age,add)\n",
    "print(obj.data())\n",
    "obj.info()"
   ]
  },
  {
   "cell_type": "code",
   "execution_count": null,
   "id": "6a443a80",
   "metadata": {},
   "outputs": [],
   "source": []
  }
 ],
 "metadata": {
  "kernelspec": {
   "display_name": "Python 3 (ipykernel)",
   "language": "python",
   "name": "python3"
  },
  "language_info": {
   "codemirror_mode": {
    "name": "ipython",
    "version": 3
   },
   "file_extension": ".py",
   "mimetype": "text/x-python",
   "name": "python",
   "nbconvert_exporter": "python",
   "pygments_lexer": "ipython3",
   "version": "3.10.9"
  }
 },
 "nbformat": 4,
 "nbformat_minor": 5
}
