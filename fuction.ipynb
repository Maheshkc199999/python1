{
 "cells": [
  {
   "cell_type": "code",
   "execution_count": 1,
   "id": "bd4cdace",
   "metadata": {},
   "outputs": [],
   "source": [
    "# function\n",
    "# pre defined\n",
    "# user defined"
   ]
  },
  {
   "cell_type": "code",
   "execution_count": 3,
   "id": "450b1093",
   "metadata": {},
   "outputs": [],
   "source": [
    "# pre defined function\n",
    "# print() int()float()\n",
    "# str()type()list()tuple()"
   ]
  },
  {
   "cell_type": "code",
   "execution_count": 5,
   "id": "23da3280",
   "metadata": {},
   "outputs": [],
   "source": [
    "# #user defined function\n",
    "# def <function_name>:\n",
    "#     <operation>\n",
    "# <function_name>"
   ]
  },
  {
   "cell_type": "code",
   "execution_count": 6,
   "id": "d48be7a6",
   "metadata": {},
   "outputs": [
    {
     "name": "stdout",
     "output_type": "stream",
     "text": [
      "hello world\n"
     ]
    }
   ],
   "source": [
    "def hello():\n",
    "    print(\"hello world\")\n",
    "hello()"
   ]
  },
  {
   "cell_type": "code",
   "execution_count": 8,
   "id": "0001b364",
   "metadata": {},
   "outputs": [
    {
     "name": "stdout",
     "output_type": "stream",
     "text": [
      "enter the value of l: 5\n",
      "enter the value of v: 6\n",
      "enter the value of h: 7\n",
      "210\n"
     ]
    },
    {
     "ename": "NameError",
     "evalue": "name 'l' is not defined",
     "output_type": "error",
     "traceback": [
      "\u001b[1;31m---------------------------------------------------------------------------\u001b[0m",
      "\u001b[1;31mNameError\u001b[0m                                 Traceback (most recent call last)",
      "Cell \u001b[1;32mIn[8], line 8\u001b[0m\n\u001b[0;32m      6\u001b[0m     \u001b[38;5;28mprint\u001b[39m(v)\n\u001b[0;32m      7\u001b[0m cal()\n\u001b[1;32m----> 8\u001b[0m \u001b[38;5;28mprint\u001b[39m(\u001b[43ml\u001b[49m)\n",
      "\u001b[1;31mNameError\u001b[0m: name 'l' is not defined"
     ]
    }
   ],
   "source": [
    "# function without arguement and no return type\n",
    "def cal():\n",
    "    l = int(input(\"enter the value of l: \")) #local variable\n",
    "    v = int(input(\"enter the value of v: \"))\n",
    "    h = int(input(\"enter the value of h: \"))\n",
    "    v = l*v*h\n",
    "    print(v)\n",
    "cal()"
   ]
  },
  {
   "cell_type": "code",
   "execution_count": 12,
   "id": "bb8f6639",
   "metadata": {},
   "outputs": [
    {
     "name": "stdout",
     "output_type": "stream",
     "text": [
      "enter the value of l: 8\n",
      "enter the value of v: 9\n",
      "enter the value of h: 0\n",
      "0\n",
      "8 9 0\n"
     ]
    }
   ],
   "source": [
    "l = int(input(\"enter the value of l: \")) \n",
    "b = int(input(\"enter the value of v: \"))\n",
    "h = int(input(\"enter the value of h: \"))\n",
    "def cal():\n",
    "    v=l*b*h\n",
    "    print(v)\n",
    "cal()\n",
    "print(l,b,h)"
   ]
  },
  {
   "cell_type": "code",
   "execution_count": 13,
   "id": "b9b1c834",
   "metadata": {},
   "outputs": [
    {
     "name": "stdout",
     "output_type": "stream",
     "text": [
      "enter the value of l: 8\n",
      "enter the value of v: 9\n",
      "enter the value of h: 6\n",
      "432\n",
      "8 9 6\n"
     ]
    }
   ],
   "source": [
    "def cal():\n",
    "    global l,b,h\n",
    "    l = int(input(\"enter the value of l: \")) #local variable\n",
    "    v = int(input(\"enter the value of v: \"))\n",
    "    h = int(input(\"enter the value of h: \"))\n",
    "    v = l*v*h\n",
    "    print(v)\n",
    "cal()\n",
    "print(l,b,h)"
   ]
  },
  {
   "cell_type": "code",
   "execution_count": 14,
   "id": "e03738d7",
   "metadata": {},
   "outputs": [],
   "source": [
    "# function without arguement and no return type\n",
    "# functon with arguement and no return type\n",
    "# function without arguement and return type\n",
    "# function with arguement and return type\n"
   ]
  },
  {
   "cell_type": "code",
   "execution_count": 17,
   "id": "333cfb02",
   "metadata": {},
   "outputs": [
    {
     "name": "stdout",
     "output_type": "stream",
     "text": [
      "hello world\n"
     ]
    }
   ],
   "source": [
    "def hello(x):#parameter\n",
    "    print(x)\n",
    "hello(\"hello world\")#arguement\n"
   ]
  },
  {
   "cell_type": "code",
   "execution_count": 18,
   "id": "49968eac",
   "metadata": {},
   "outputs": [
    {
     "name": "stdout",
     "output_type": "stream",
     "text": [
      "enter the value of l: 5\n",
      "enter the value of v: 6\n",
      "enter the value of h: 7\n",
      "315\n"
     ]
    }
   ],
   "source": [
    "# function with arguement\n",
    "def cal(x,y,z):\n",
    "    v = x*y*z\n",
    "    print(v)\n",
    "l = int(input(\"enter the value of l: \")) \n",
    "v = int(input(\"enter the value of v: \"))\n",
    "h = int(input(\"enter the value of h: \"))\n",
    "cal(l,b,h)"
   ]
  },
  {
   "cell_type": "code",
   "execution_count": 19,
   "id": "c0f6ade8",
   "metadata": {},
   "outputs": [
    {
     "name": "stdout",
     "output_type": "stream",
     "text": [
      "c\n",
      "c++\n",
      "php\n",
      "python\n"
     ]
    }
   ],
   "source": [
    "ef cal(language=\"python\"):\n",
    "    print(language)\n",
    "cal('c')\n",
    "cal('c++')\n",
    "cal('php')\n",
    "cal()\n"
   ]
  },
  {
   "cell_type": "code",
   "execution_count": 23,
   "id": "83f0c61b",
   "metadata": {},
   "outputs": [
    {
     "name": "stdout",
     "output_type": "stream",
     "text": [
      "enter the language: uu\n",
      "uu\n"
     ]
    }
   ],
   "source": [
    "def cal(language=\"python\"):\n",
    "    print(language)\n",
    "\n",
    "cal(input(\"enter the language: \"))"
   ]
  },
  {
   "cell_type": "code",
   "execution_count": 4,
   "id": "8880a4ae",
   "metadata": {
    "scrolled": true
   },
   "outputs": [
    {
     "ename": "NameError",
     "evalue": "name 'l' is not defined",
     "output_type": "error",
     "traceback": [
      "\u001b[1;31m---------------------------------------------------------------------------\u001b[0m",
      "\u001b[1;31mNameError\u001b[0m                                 Traceback (most recent call last)",
      "Cell \u001b[1;32mIn[4], line 7\u001b[0m\n\u001b[0;32m      5\u001b[0m     b \u001b[38;5;241m=\u001b[39m \u001b[38;5;28mint\u001b[39m(\u001b[38;5;28minput\u001b[39m(\u001b[38;5;124m\"\u001b[39m\u001b[38;5;124menter the value of v: \u001b[39m\u001b[38;5;124m\"\u001b[39m))\n\u001b[0;32m      6\u001b[0m     h \u001b[38;5;241m=\u001b[39m \u001b[38;5;28mint\u001b[39m(\u001b[38;5;28minput\u001b[39m(\u001b[38;5;124m\"\u001b[39m\u001b[38;5;124menter the value of h: \u001b[39m\u001b[38;5;124m\"\u001b[39m))\n\u001b[1;32m----> 7\u001b[0m cal(\u001b[43ml\u001b[49m,b,h)\n",
      "\u001b[1;31mNameError\u001b[0m: name 'l' is not defined"
     ]
    }
   ],
   "source": [
    "def cal(l,b,h):\n",
    "    v = l*b*h\n",
    "    print(v)\n",
    "    l = int(input(\"enter the value of l: \")) \n",
    "    b = int(input(\"enter the value of v: \"))\n",
    "    h = int(input(\"enter the value of h: \"))\n",
    "cal(l,b,h)"
   ]
  },
  {
   "cell_type": "code",
   "execution_count": 3,
   "id": "f763871e",
   "metadata": {},
   "outputs": [
    {
     "ename": "NameError",
     "evalue": "name 'l' is not defined",
     "output_type": "error",
     "traceback": [
      "\u001b[1;31m---------------------------------------------------------------------------\u001b[0m",
      "\u001b[1;31mNameError\u001b[0m                                 Traceback (most recent call last)",
      "Cell \u001b[1;32mIn[3], line 7\u001b[0m\n\u001b[0;32m      5\u001b[0m     v \u001b[38;5;241m=\u001b[39m x\u001b[38;5;241m*\u001b[39my\u001b[38;5;241m*\u001b[39mz\n\u001b[0;32m      6\u001b[0m     \u001b[38;5;28mprint\u001b[39m(v)\n\u001b[1;32m----> 7\u001b[0m cal(\u001b[43ml\u001b[49m,b,h)\n",
      "\u001b[1;31mNameError\u001b[0m: name 'l' is not defined"
     ]
    }
   ],
   "source": [
    "def cal(x,y,z):\n",
    "    l = int(input(\"enter the value of l: \")) \n",
    "    v = int(input(\"enter the value of v: \"))\n",
    "    h = int(input(\"enter the value of h: \"))\n",
    "    v = x*y*z\n",
    "    print(v)\n",
    "cal(l,b,h)"
   ]
  },
  {
   "cell_type": "code",
   "execution_count": null,
   "id": "69632e3b",
   "metadata": {},
   "outputs": [],
   "source": []
  }
 ],
 "metadata": {
  "kernelspec": {
   "display_name": "Python 3 (ipykernel)",
   "language": "python",
   "name": "python3"
  },
  "language_info": {
   "codemirror_mode": {
    "name": "ipython",
    "version": 3
   },
   "file_extension": ".py",
   "mimetype": "text/x-python",
   "name": "python",
   "nbconvert_exporter": "python",
   "pygments_lexer": "ipython3",
   "version": "3.10.9"
  }
 },
 "nbformat": 4,
 "nbformat_minor": 5
}
