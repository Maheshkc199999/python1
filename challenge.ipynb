{
 "cells": [
  {
   "cell_type": "code",
   "execution_count": null,
   "id": "fa9b1eee",
   "metadata": {},
   "outputs": [],
   "source": [
    "# n=int(input(\"enter the number N: \"))\n",
    "# for i in range(2,n):\n",
    "#     for j in range(2,i):\n",
    "#         if i%j==0:\n",
    "#             break\n",
    "#     else:\n",
    "#           print(i)\n",
    "        \n",
    "        "
   ]
  },
  {
   "cell_type": "code",
   "execution_count": null,
   "id": "67add25d",
   "metadata": {},
   "outputs": [],
   "source": []
  },
  {
   "cell_type": "code",
   "execution_count": null,
   "id": "9a3eb9b7",
   "metadata": {},
   "outputs": [],
   "source": []
  },
  {
   "cell_type": "code",
   "execution_count": null,
   "id": "18b83cdb",
   "metadata": {},
   "outputs": [],
   "source": [
    "# # n =int(input(\"enter n: \"))\n",
    "# # i=2\n",
    "# # while i<=n:\n",
    "# #     flag=0\n",
    "# #     for j in range(2,i):\n",
    "# #         if i%j==0:\n",
    "# #             flag=1\n",
    "# #             break\n",
    "# #     if flag==0:\n",
    "# #         print(i)\n",
    "#     i+=1"
   ]
  },
  {
   "cell_type": "code",
   "execution_count": null,
   "id": "1f0bb724",
   "metadata": {},
   "outputs": [],
   "source": [
    "l,r,k= input().split()\n",
    "l=int(l)\n",
    "r=int(r)\n",
    "k=int(k)\n"
   ]
  },
  {
   "cell_type": "code",
   "execution_count": null,
   "id": "748d9d6c",
   "metadata": {},
   "outputs": [],
   "source": [
    "d = []\n",
    "n = int(input(\"enter the no n: \"))\n",
    "for i in range(n):\n",
    "    name = input(\"enter the name: \")\n",
    "    phno = input(\"enter the phone: \")\n",
    "    add = input(\"enter the add: \")\n",
    "    data = {'name':name,'phno':phno,'add':add}\n",
    "    d.append(data)\n",
    "print(d)"
   ]
  },
  {
   "cell_type": "code",
   "execution_count": null,
   "id": "66219890",
   "metadata": {},
   "outputs": [],
   "source": [
    "d = {}\n",
    "n = input(\"enter the no: \")\n",
    "for i in range(n):\n",
    "    "
   ]
  },
  {
   "cell_type": "code",
   "execution_count": null,
   "id": "47592bb5",
   "metadata": {},
   "outputs": [],
   "source": [
    "d = []\n",
    "d.append(\"ball\")\n",
    "d.append(\"cat\")\n",
    "d"
   ]
  },
  {
   "cell_type": "code",
   "execution_count": null,
   "id": "22765c5d",
   "metadata": {},
   "outputs": [],
   "source": []
  }
 ],
 "metadata": {
  "kernelspec": {
   "display_name": "Python 3 (ipykernel)",
   "language": "python",
   "name": "python3"
  },
  "language_info": {
   "codemirror_mode": {
    "name": "ipython",
    "version": 3
   },
   "file_extension": ".py",
   "mimetype": "text/x-python",
   "name": "python",
   "nbconvert_exporter": "python",
   "pygments_lexer": "ipython3",
   "version": "3.10.9"
  }
 },
 "nbformat": 4,
 "nbformat_minor": 5
}
