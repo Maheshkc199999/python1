{
 "cells": [
  {
   "cell_type": "code",
   "execution_count": null,
   "id": "9fea1d9c",
   "metadata": {},
   "outputs": [],
   "source": [
    "#while loop\n",
    "#its used in uncertinety case\n",
    "#syntax\n",
    "#while <condition>:\n",
    "#     <operation>"
   ]
  },
  {
   "cell_type": "code",
   "execution_count": 1,
   "id": "7908b168",
   "metadata": {},
   "outputs": [
    {
     "name": "stdout",
     "output_type": "stream",
     "text": [
      "Hello world\n",
      "Hello world\n",
      "Hello world\n",
      "Hello world\n",
      "Hello world\n",
      "Hello world\n"
     ]
    }
   ],
   "source": [
    "i=0\n",
    "while i<=5:\n",
    "    print(\"Hello world\")\n",
    "    i+=1"
   ]
  },
  {
   "cell_type": "code",
   "execution_count": 4,
   "id": "12b8973b",
   "metadata": {},
   "outputs": [
    {
     "name": "stdout",
     "output_type": "stream",
     "text": [
      "enter the value of n:3\n",
      "3 * 1 = 3\n",
      "3 * 2 = 6\n",
      "3 * 3 = 9\n",
      "3 * 4 = 12\n",
      "3 * 5 = 15\n",
      "3 * 6 = 18\n",
      "3 * 7 = 21\n",
      "3 * 8 = 24\n",
      "3 * 9 = 27\n",
      "3 * 10 = 30\n"
     ]
    }
   ],
   "source": [
    "i=1\n",
    "n=int(input(\"enter the value of n:\"))\n",
    "while i<=10:\n",
    "    print(n,\"*\",i,\"=\",n*i)\n",
    "    i+=1"
   ]
  },
  {
   "cell_type": "code",
   "execution_count": 12,
   "id": "e4112321",
   "metadata": {},
   "outputs": [
    {
     "name": "stdout",
     "output_type": "stream",
     "text": [
      "10\n",
      "9\n",
      "8\n",
      "7\n",
      "6\n",
      "5\n",
      "4\n",
      "3\n",
      "2\n",
      "1\n"
     ]
    }
   ],
   "source": [
    "i=10\n",
    "while i>=1:\n",
    "    print(i)\n",
    "    i-=1"
   ]
  },
  {
   "cell_type": "code",
   "execution_count": 5,
   "id": "df93eddd",
   "metadata": {},
   "outputs": [
    {
     "name": "stdout",
     "output_type": "stream",
     "text": [
      "Enter the value of n:2\n",
      "Enter x=2\n",
      "Enter x=3\n",
      "5\n"
     ]
    }
   ],
   "source": [
    "s=0\n",
    "i=0\n",
    "n=int(input(\"Enter the value of n:\"))\n",
    "while i<n:\n",
    "    x=int(input(\"Enter x=\"))\n",
    "    s=s+x\n",
    "    i+=1\n",
    "print(s)\n",
    " "
   ]
  },
  {
   "cell_type": "markdown",
   "id": "2aa171c3",
   "metadata": {},
   "source": []
  },
  {
   "cell_type": "code",
   "execution_count": 18,
   "id": "5b485dd2",
   "metadata": {},
   "outputs": [
    {
     "name": "stdout",
     "output_type": "stream",
     "text": [
      "Enter n=5\n",
      "Enter name:fff\n",
      "Enter phone no:55\n",
      "Enter name:ff\n",
      "Enter phone no:5556\n",
      "Enter name:fffg\n",
      "Enter phone no:666\n",
      "Enter name:ddd5\n",
      "Enter phone no:6666\n",
      "Enter name:dddd\n",
      "Enter phone no:3333\n",
      "fff 55\n",
      "ff 5556\n",
      "fffg 666\n",
      "ddd5 6666\n",
      "dddd 3333\n",
      "\n"
     ]
    }
   ],
   "source": [
    "info=\"\"\n",
    "i=0\n",
    "n=int(input(\"Enter n=\"))\n",
    "while i<n:\n",
    "    name=input(\"Enter name:\")\n",
    "    phone=int(input(\"Enter phone no:\"))\n",
    "    data=name+\" \"+str(phone)+\"\\n\"\n",
    "    info=info+data\n",
    "    i+=1\n",
    "print(info)"
   ]
  },
  {
   "cell_type": "code",
   "execution_count": 5,
   "id": "1e420642",
   "metadata": {},
   "outputs": [
    {
     "name": "stdout",
     "output_type": "stream",
     "text": [
      "0 1 2 4 5 6 7 "
     ]
    }
   ],
   "source": [
    "i=0\n",
    "while i<=7:\n",
    "    if i==3:\n",
    "        i+=1\n",
    "        continue\n",
    "    print(i,end=\" \")\n",
    "    i+=1"
   ]
  },
  {
   "cell_type": "code",
   "execution_count": 9,
   "id": "c6bf6d8e",
   "metadata": {},
   "outputs": [
    {
     "name": "stdout",
     "output_type": "stream",
     "text": [
      "0 1 2 "
     ]
    }
   ],
   "source": [
    "i=0\n",
    "while i<=10:\n",
    "    if i==3:\n",
    "        break\n",
    "    print(i,end=\" \")\n",
    "    i+=1"
   ]
  },
  {
   "cell_type": "code",
   "execution_count": 23,
   "id": "138acf84",
   "metadata": {},
   "outputs": [
    {
     "name": "stdout",
     "output_type": "stream",
     "text": [
      "p hello world\n",
      "y hello world\n",
      "t hello world\n",
      "h\n"
     ]
    }
   ],
   "source": [
    "a=\"python\"\n",
    "for i in a:\n",
    "    if i==\"h\":\n",
    "        print(i)\n",
    "        break\n",
    "    print(i,\"hello world\")"
   ]
  },
  {
   "cell_type": "code",
   "execution_count": 19,
   "id": "bc876e8b",
   "metadata": {},
   "outputs": [
    {
     "name": "stdout",
     "output_type": "stream",
     "text": [
      "hello world\n",
      "hello world\n",
      "hello world\n",
      "hello world\n",
      "hello world\n",
      "hello world\n"
     ]
    }
   ],
   "source": [
    "a=\"python\"\n",
    "for i in a:\n",
    "    print(\"hello world\")"
   ]
  },
  {
   "cell_type": "code",
   "execution_count": 22,
   "id": "8aab0331",
   "metadata": {},
   "outputs": [
    {
     "name": "stdout",
     "output_type": "stream",
     "text": [
      "p hello world\n",
      "y hello world\n",
      "t hello world\n"
     ]
    }
   ],
   "source": [
    "a=\"python\"\n",
    "for i in a:\n",
    "    if i==a[3]:\n",
    "        break\n",
    "    print(i,\"hello world\")"
   ]
  },
  {
   "cell_type": "code",
   "execution_count": null,
   "id": "b4e2d130",
   "metadata": {},
   "outputs": [],
   "source": [
    "#for else loop\n",
    "#while else loop"
   ]
  },
  {
   "cell_type": "code",
   "execution_count": 2,
   "id": "08467b6c",
   "metadata": {},
   "outputs": [
    {
     "name": "stdout",
     "output_type": "stream",
     "text": [
      "Enter the n: 7\n",
      "no is prime\n"
     ]
    }
   ],
   "source": [
    "n = int(input(\"Enter the n: \"))\n",
    "if n==2:\n",
    "    print(\"no is prime\")\n",
    "elif n>2:\n",
    "    for i in range(2,n):\n",
    "            if n%i==0:\n",
    "                print(\"not prime\")\n",
    "                break\n",
    "    else:\n",
    "         print(\"no is prime\")\n",
    "else:\n",
    "    print(\"should no be less then 2\")"
   ]
  },
  {
   "cell_type": "code",
   "execution_count": null,
   "id": "1cbf3cc8",
   "metadata": {},
   "outputs": [],
   "source": []
  }
 ],
 "metadata": {
  "kernelspec": {
   "display_name": "Python 3 (ipykernel)",
   "language": "python",
   "name": "python3"
  },
  "language_info": {
   "codemirror_mode": {
    "name": "ipython",
    "version": 3
   },
   "file_extension": ".py",
   "mimetype": "text/x-python",
   "name": "python",
   "nbconvert_exporter": "python",
   "pygments_lexer": "ipython3",
   "version": "3.10.9"
  }
 },
 "nbformat": 4,
 "nbformat_minor": 5
}
