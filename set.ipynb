{
 "cells": [
  {
   "cell_type": "code",
   "execution_count": 1,
   "id": "93d506a2",
   "metadata": {},
   "outputs": [],
   "source": [
    "# set\n",
    "# no indexing\n",
    "# no ordering\n",
    "# multiple value but no duplicate value\n",
    "# mutable"
   ]
  },
  {
   "cell_type": "code",
   "execution_count": 12,
   "id": "d2e9d7ea",
   "metadata": {},
   "outputs": [
    {
     "name": "stdout",
     "output_type": "stream",
     "text": [
      "<class 'set'>\n",
      "{3, 4, 5, 6, 7, 8}\n"
     ]
    }
   ],
   "source": [
    "s = set()\n",
    "s = {6,7,8,3,4,5}\n",
    "print(type(s))\n",
    "print(s)\n"
   ]
  },
  {
   "cell_type": "code",
   "execution_count": 13,
   "id": "1a4ad71f",
   "metadata": {},
   "outputs": [
    {
     "data": {
      "text/plain": [
       "{3, 4, 5, 6, 7, 8}"
      ]
     },
     "execution_count": 13,
     "metadata": {},
     "output_type": "execute_result"
    }
   ],
   "source": [
    "s"
   ]
  },
  {
   "cell_type": "code",
   "execution_count": 11,
   "id": "26e5b3d8",
   "metadata": {},
   "outputs": [
    {
     "name": "stdout",
     "output_type": "stream",
     "text": [
      "{'dog', 'fish', 'ball', 'apple'}\n"
     ]
    }
   ],
   "source": [
    "s = {\"apple\",\"ball\",\"fish\",\"dog\"}\n",
    "print(s)"
   ]
  },
  {
   "cell_type": "code",
   "execution_count": 16,
   "id": "bb5ac661",
   "metadata": {},
   "outputs": [
    {
     "name": "stdout",
     "output_type": "stream",
     "text": [
      "{'fish', 'dog', 'apple', 'cat', 'ball'}\n"
     ]
    }
   ],
   "source": [
    "s = {\"apple\",\"ball\",\"fish\",\"dog\",\"apple\",\"cat\",\"fish\"}\n",
    "print(s)"
   ]
  },
  {
   "cell_type": "code",
   "execution_count": 17,
   "id": "5cc1e7bd",
   "metadata": {},
   "outputs": [
    {
     "data": {
      "text/plain": [
       "['cat', 'ball', 'fish', 'dog', 'apple']"
      ]
     },
     "execution_count": 17,
     "metadata": {},
     "output_type": "execute_result"
    }
   ],
   "source": [
    "s=[\"apple\",\"ball\",\"fish\",\"dog\",\"apple\",\"cat\",\"fish\"]\n",
    "list(set(s))"
   ]
  },
  {
   "cell_type": "code",
   "execution_count": 18,
   "id": "39bf817a",
   "metadata": {},
   "outputs": [
    {
     "data": {
      "text/plain": [
       "{'apple', 'ball', 'cat'}"
      ]
     },
     "execution_count": 18,
     "metadata": {},
     "output_type": "execute_result"
    }
   ],
   "source": [
    "s = set()\n",
    "s.add('apple')\n",
    "s.add('ball')\n",
    "s.add('cat')\n",
    "s"
   ]
  },
  {
   "cell_type": "code",
   "execution_count": 19,
   "id": "ad01cedf",
   "metadata": {},
   "outputs": [],
   "source": [
    "# in set no + * "
   ]
  },
  {
   "cell_type": "code",
   "execution_count": 20,
   "id": "0fb9de66",
   "metadata": {},
   "outputs": [
    {
     "name": "stdout",
     "output_type": "stream",
     "text": [
      "{1, 2, 3, 4, 5, 6, 7, 8}\n"
     ]
    }
   ],
   "source": [
    "a = {1,2,3,4,5,6,7}\n",
    "b = {5,4,3,6,8}\n",
    "a.update(b)\n",
    "print(a)"
   ]
  },
  {
   "cell_type": "code",
   "execution_count": 21,
   "id": "8d342d9a",
   "metadata": {},
   "outputs": [],
   "source": [
    "# no list inside set\n",
    "# no dict inside set\n",
    "# no set inside set\n"
   ]
  },
  {
   "cell_type": "code",
   "execution_count": 22,
   "id": "64c8b9a5",
   "metadata": {},
   "outputs": [],
   "source": [
    "# tuple inside set\n",
    "s = {(1,2,3)}"
   ]
  },
  {
   "cell_type": "code",
   "execution_count": 26,
   "id": "634e6328",
   "metadata": {},
   "outputs": [
    {
     "name": "stdout",
     "output_type": "stream",
     "text": [
      "{'shyam', 'ram'}\n",
      "{'james', 'hari', 'satya', 'steve', 'shyam', 'bill', 'ram'}\n",
      "{'james', 'hari', 'steve'}\n",
      "{'bill', 'satya'}\n"
     ]
    },
    {
     "data": {
      "text/plain": [
       "{'bill', 'hari', 'james', 'satya', 'steve'}"
      ]
     },
     "execution_count": 26,
     "metadata": {},
     "output_type": "execute_result"
    }
   ],
   "source": [
    "apple = {\"ram\",\"shyam\",\"hari\",\"james\",\"steve\"}\n",
    "ms = {\"satya\",\"ram\",\"shyam\",\"bill\"}\n",
    "print(apple.intersection(ms))\n",
    "print(apple.union(ms))\n",
    "print(apple-ms)\n",
    "print(ms-apple)\n",
    "(apple-ms).union(ms-apple)"
   ]
  },
  {
   "cell_type": "code",
   "execution_count": null,
   "id": "1edaaf1b",
   "metadata": {},
   "outputs": [],
   "source": [
    "# issubset()\n",
    "# issuperset()"
   ]
  }
 ],
 "metadata": {
  "kernelspec": {
   "display_name": "Python 3 (ipykernel)",
   "language": "python",
   "name": "python3"
  },
  "language_info": {
   "codemirror_mode": {
    "name": "ipython",
    "version": 3
   },
   "file_extension": ".py",
   "mimetype": "text/x-python",
   "name": "python",
   "nbconvert_exporter": "python",
   "pygments_lexer": "ipython3",
   "version": "3.10.9"
  }
 },
 "nbformat": 4,
 "nbformat_minor": 5
}
