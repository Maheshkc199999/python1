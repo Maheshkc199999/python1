{
 "cells": [
  {
   "cell_type": "code",
   "execution_count": null,
   "id": "ec47a9dc",
   "metadata": {},
   "outputs": [],
   "source": [
    "# python collection\n",
    "# list\n",
    "# tuple\n",
    "# dic\n",
    "# set"
   ]
  },
  {
   "cell_type": "code",
   "execution_count": null,
   "id": "340148a8",
   "metadata": {},
   "outputs": [],
   "source": [
    "# list\n",
    "# indexing\n",
    "# multiple and duplicate\n",
    "# mutable"
   ]
  },
  {
   "cell_type": "code",
   "execution_count": 2,
   "id": "2d0b1f80",
   "metadata": {},
   "outputs": [
    {
     "name": "stdout",
     "output_type": "stream",
     "text": [
      "apple\n",
      "['apple', 'banana', 'mango']\n",
      "[5, 6, 7, 7]\n",
      "7\n"
     ]
    }
   ],
   "source": [
    "a = [\"apple\",\"banana\",\"mango\"]\n",
    "b = [1,2,3,5,6,7,7]\n",
    "     \n",
    "print(a[0])\n",
    "print(a[:3])\n",
    "print(b[3:7])\n",
    "print(len(b))"
   ]
  },
  {
   "cell_type": "code",
   "execution_count": 1,
   "id": "b76930fc",
   "metadata": {},
   "outputs": [
    {
     "name": "stdout",
     "output_type": "stream",
     "text": [
      "['apple', 'ball', 'cat', 'dog', 'apple', 'ball', 'cat', 'dog']\n",
      "[1, 2, 3, 5, 6, 7, 7, 1, 2, 3, 5, 6, 7, 7]\n"
     ]
    }
   ],
   "source": [
    "a = [\"apple\",\"ball\",\"cat\",\"dog\"]\n",
    "b = [1,2,3,5,6,7,7]\n",
    "print(a*2)\n",
    "print(b*2)"
   ]
  },
  {
   "cell_type": "code",
   "execution_count": 3,
   "id": "c02d936d",
   "metadata": {},
   "outputs": [
    {
     "data": {
      "text/plain": [
       "['mahesh', 'satya']"
      ]
     },
     "execution_count": 3,
     "metadata": {},
     "output_type": "execute_result"
    }
   ],
   "source": [
    "a = []\n",
    "b=a+[\"mahesh\"]\n",
    "c=b+[\"satya\"]\n",
    "c"
   ]
  },
  {
   "cell_type": "code",
   "execution_count": 6,
   "id": "4d8a6816",
   "metadata": {},
   "outputs": [
    {
     "name": "stdout",
     "output_type": "stream",
     "text": [
      "enter the value of n: 3\n",
      "enter the vlaue of x: 4\n",
      "enter the vlaue of x: 5\n",
      "enter the vlaue of x: 6\n",
      "[4, 5, 6]\n"
     ]
    }
   ],
   "source": [
    "a = []\n",
    "n = int(input(\"enter the value of n: \"))\n",
    "for i in range(n):\n",
    "    x = int(input(\"enter the vlaue of x: \"))\n",
    "    a=a+[x]\n",
    "print(a)"
   ]
  },
  {
   "cell_type": "code",
   "execution_count": 7,
   "id": "263777b5",
   "metadata": {},
   "outputs": [
    {
     "name": "stdout",
     "output_type": "stream",
     "text": [
      "the max value =  66\n",
      "the min value =  1\n",
      "the sum =  98\n"
     ]
    }
   ],
   "source": [
    "a = [1,3,5,66,7,8,8]\n",
    "print(\"the max value = \",max(a))\n",
    "print(\"the min value = \",min(a))\n",
    "print(\"the sum = \",sum(a))"
   ]
  },
  {
   "cell_type": "code",
   "execution_count": 8,
   "id": "f8e623cb",
   "metadata": {},
   "outputs": [
    {
     "name": "stdout",
     "output_type": "stream",
     "text": [
      "[3, 22, 45, 66, 66, 355, 554, 778, 888, 9995]\n"
     ]
    }
   ],
   "source": [
    "a = [22,3,355,66,778,888,9995,554,45,66]\n",
    "a.sort()\n",
    "print(a)"
   ]
  },
  {
   "cell_type": "code",
   "execution_count": 9,
   "id": "e1409189",
   "metadata": {},
   "outputs": [
    {
     "name": "stdout",
     "output_type": "stream",
     "text": [
      "[9995, 888, 778, 554, 355, 66, 66, 45, 22, 3]\n"
     ]
    }
   ],
   "source": [
    "a.reverse()\n",
    "print(a)"
   ]
  },
  {
   "cell_type": "code",
   "execution_count": 12,
   "id": "06cd315f",
   "metadata": {},
   "outputs": [
    {
     "name": "stdout",
     "output_type": "stream",
     "text": [
      "[\"ap'small'ple\", 'appy', 'ball', 'cat']\n",
      "[\"ap'small'ple\", 'appy', 'ball', 'cat', 'naresh']\n"
     ]
    }
   ],
   "source": [
    "a = [\"ap'small'ple\",\"ball\",\"cat\",\"appy\"]\n",
    "a.sort()\n",
    "print(a)\n",
    "a.append(\"naresh\")\n",
    "print(a)"
   ]
  },
  {
   "cell_type": "code",
   "execution_count": 13,
   "id": "8b65da2b",
   "metadata": {},
   "outputs": [],
   "source": [
    "# data entry\n",
    "# append() insert() extend()\n",
    "#  delete value\n",
    "# del remove() pop()"
   ]
  },
  {
   "cell_type": "code",
   "execution_count": 16,
   "id": "61439864",
   "metadata": {},
   "outputs": [
    {
     "name": "stdout",
     "output_type": "stream",
     "text": [
      "enter the value of n: 3\n",
      "enter the vlaue of x: ff\n",
      "enter the vlaue of x: 55\n",
      "enter the vlaue of x: gg\n",
      "['ff', '55', 'gg']\n"
     ]
    }
   ],
   "source": [
    "a = []\n",
    "n = int(input(\"enter the value of n: \"))\n",
    "for i in range(n):\n",
    "    x = (input(\"enter the vlaue of x: \"))\n",
    "    a.append(x)\n",
    "print(a)"
   ]
  },
  {
   "cell_type": "code",
   "execution_count": 36,
   "id": "8999f544",
   "metadata": {},
   "outputs": [
    {
     "name": "stdout",
     "output_type": "stream",
     "text": [
      "[0, 1, 2, 3, 4, 5, 6, 9, 69]\n",
      "[0, 1, 2, 3, 4, 5, 6, 69]\n",
      "[0, 1, 2, 3, 4, 5, 6]\n",
      "[0, 1, 2, 3, 4, 5, 6, 55, 15, 66, 77, 44]\n",
      "[1, 2, 3, 4, 5, 6, 55, 15, 66, 77, 44]\n",
      "[1, 2, 3, 4, 5, 2, 55, 15, 66, 77, 44]\n"
     ]
    },
    {
     "data": {
      "text/plain": [
       "3"
      ]
     },
     "execution_count": 36,
     "metadata": {},
     "output_type": "execute_result"
    }
   ],
   "source": [
    "a = [0,2,3,4,5,6,9,69]\n",
    "a.insert(1,1)\n",
    "print(a)\n",
    "a.pop(7)\n",
    "print(a)\n",
    "a.remove(69)\n",
    "print(a)\n",
    "b = [55,15,66,77,44]\n",
    "a.extend(b)\n",
    "print(a)\n",
    "del a[0]\n",
    "print(a)\n",
    "a[5]=2\n",
    "print(a)\n",
    "a.index(4)"
   ]
  },
  {
   "cell_type": "code",
   "execution_count": 41,
   "id": "0cc4635e",
   "metadata": {},
   "outputs": [
    {
     "name": "stdout",
     "output_type": "stream",
     "text": [
      "0\n",
      "3\n"
     ]
    }
   ],
   "source": [
    "a =[\"Zebra\",\"lion\",\"apple\",\"Zebra\"]\n",
    "for i in range(len(a)):\n",
    "    if a[i]==\"Zebra\":\n",
    "        print(i)"
   ]
  },
  {
   "cell_type": "code",
   "execution_count": 43,
   "id": "a7983776",
   "metadata": {},
   "outputs": [
    {
     "name": "stdout",
     "output_type": "stream",
     "text": [
      "['zebra', 'lion', 'apple', 'zebra']\n"
     ]
    }
   ],
   "source": [
    "a =[\"Zebra\",\"lion\",\"apple\",\"Zebra\"]\n",
    "for i in range(len(a)):\n",
    "    if a[i]==\"Zebra\":\n",
    "        a[i]=\"zebra\"\n",
    "print(a)"
   ]
  },
  {
   "cell_type": "code",
   "execution_count": 12,
   "id": "a498defa",
   "metadata": {},
   "outputs": [
    {
     "name": "stdout",
     "output_type": "stream",
     "text": [
      "['lion', 'apple']\n"
     ]
    }
   ],
   "source": [
    "a =[\"Zebra\",\"lion\",\"apple\",\"Zebra\"]\n",
    "for i in range(len(a)-1):\n",
    "    if a[i]==\"Zebra\":\n",
    "        del a[i]\n",
    "print(a)"
   ]
  },
  {
   "cell_type": "code",
   "execution_count": 5,
   "id": "f3ba7d2f",
   "metadata": {},
   "outputs": [
    {
     "name": "stdout",
     "output_type": "stream",
     "text": [
      "['banana', 'cat', 'dog']\n"
     ]
    }
   ],
   "source": [
    "a = [ \"zebra\",\"banana\",\"cat\",\"dog\",\"zebra\"]\n",
    "l = a.count(\"zebra\")\n",
    "for i in range(l):\n",
    "    a.remove(\"zebra\")\n",
    "print(a)"
   ]
  },
  {
   "cell_type": "code",
   "execution_count": 3,
   "id": "0cca0248",
   "metadata": {},
   "outputs": [
    {
     "data": {
      "text/plain": [
       "1"
      ]
     },
     "execution_count": 3,
     "metadata": {},
     "output_type": "execute_result"
    }
   ],
   "source": [
    "a = [ \"zebra\",\"banana\",\"cat\",\"dog\",\"zebra\"]\n",
    "a.index(\"banana\")"
   ]
  },
  {
   "cell_type": "code",
   "execution_count": 12,
   "id": "40e7712d",
   "metadata": {},
   "outputs": [
    {
     "name": "stdout",
     "output_type": "stream",
     "text": [
      "yes\n",
      "2\n"
     ]
    }
   ],
   "source": [
    "# search\n",
    "a = [ \"zebra\",\"banana\",\"cat\",\"dog\",\"zebra\"]\n",
    "if \"zebra\" in a:\n",
    "    print(\"yes\")\n",
    "    print(a.count(\"zebra\"))\n",
    "else:\n",
    "    print(\"No\")"
   ]
  },
  {
   "cell_type": "code",
   "execution_count": 15,
   "id": "10f9a7bb",
   "metadata": {},
   "outputs": [
    {
     "name": "stdout",
     "output_type": "stream",
     "text": [
      "[[1, 3, 4], [2, 4, 6], [4, 5, 6]]\n",
      "<class 'list'>\n",
      "[1, 3, 4]\n"
     ]
    }
   ],
   "source": [
    "#list inside list(nested list)\n",
    "a = [[1,3,4],\n",
    "    [2,4,6],\n",
    "    [4,5,6]]\n",
    "print(a)\n",
    "print(type(a))\n",
    "print(a[0])"
   ]
  },
  {
   "cell_type": "code",
   "execution_count": 20,
   "id": "de3d75f3",
   "metadata": {},
   "outputs": [
    {
     "name": "stdout",
     "output_type": "stream",
     "text": [
      "[1, 3, 4]\n",
      "1\n",
      "4\n"
     ]
    }
   ],
   "source": [
    "a = [[1,3,4],\n",
    "    [2,4,6],\n",
    "    [4,5,6]]\n",
    "print(a[0])\n",
    "print(a[0][0])\n",
    "print(a[0][2])"
   ]
  },
  {
   "cell_type": "code",
   "execution_count": 26,
   "id": "890d34a3",
   "metadata": {},
   "outputs": [
    {
     "data": {
      "text/plain": [
       "[[1, 3, 4], [2, 4, 6], [4, 5, 6], [22, 3, 4]]"
      ]
     },
     "execution_count": 26,
     "metadata": {},
     "output_type": "execute_result"
    }
   ],
   "source": [
    "a = [[1,3,4],\n",
    "    [2,4,6],\n",
    "    [4,5,6]]\n",
    "a.append([22,3,4])\n",
    "a"
   ]
  },
  {
   "cell_type": "code",
   "execution_count": 24,
   "id": "001f0569",
   "metadata": {},
   "outputs": [
    {
     "name": "stdout",
     "output_type": "stream",
     "text": [
      "[[3, 4, 5], [2, 4, 6], [4, 5, 6]]\n"
     ]
    }
   ],
   "source": [
    "a = [[1,3,4],\n",
    "    [2,4,6],\n",
    "    [4,5,6]]\n",
    "a[0]=[3,4,5]\n",
    "print(a)\n"
   ]
  },
  {
   "cell_type": "code",
   "execution_count": 1,
   "id": "a3b761c6",
   "metadata": {},
   "outputs": [
    {
     "name": "stdout",
     "output_type": "stream",
     "text": [
      "[[1, 3, 4], [5, 4, 6], [4, 5, 6]]\n"
     ]
    }
   ],
   "source": [
    "a = [[1,3,4],\n",
    "    [2,4,6],\n",
    "    [4,5,6]]\n",
    "a[0][0]=5\n",
    "print(a)"
   ]
  },
  {
   "cell_type": "code",
   "execution_count": 6,
   "id": "a347df43",
   "metadata": {},
   "outputs": [
    {
     "name": "stdout",
     "output_type": "stream",
     "text": [
      "Enter number in =0\n",
      "Enter number in =0\n",
      "Enter number in =0\n",
      "[[1, 3, 0, 4], [2, 4, 0, 6], [4, 5, 0, 6]]\n"
     ]
    }
   ],
   "source": [
    "a = [[1,3,4],\n",
    "    [2,4,6],\n",
    "    [4,5,6]]\n",
    "for i in range(len(a)):\n",
    "    x = int(input(\"Enter number in =\"))\n",
    "    a[i].insert(2,x)\n",
    "print(a)"
   ]
  },
  {
   "cell_type": "code",
   "execution_count": 3,
   "id": "6e9a8931",
   "metadata": {},
   "outputs": [
    {
     "name": "stdout",
     "output_type": "stream",
     "text": [
      "enter the number: 5\n",
      "[4, 5, 6]\n"
     ]
    }
   ],
   "source": [
    "a = [[1,3,4],\n",
    "    [2,4,6],\n",
    "    [4,5,6]]\n",
    "n = int(input(\"enter the number: \"))\n",
    "for i in a:\n",
    "    if n==i[1]:\n",
    "          print(i)"
   ]
  },
  {
   "cell_type": "code",
   "execution_count": 18,
   "id": "fdfb3b6d",
   "metadata": {},
   "outputs": [
    {
     "name": "stdout",
     "output_type": "stream",
     "text": [
      "enter the name; ram\n",
      "['ram', 33, 'laltpur']\n"
     ]
    }
   ],
   "source": [
    "info = [[\"ram\",33,\"laltpur\"],\n",
    "       [\"hari\",44,\"kathmandu\"],\n",
    "       [\"gopal\",55,\"bhaktapur\"]]\n",
    "name = input(\"enter the name; \")\n",
    "for i in info:\n",
    "    if name.lower()==i[0].lower():\n",
    "        print(i)\n"
   ]
  },
  {
   "cell_type": "code",
   "execution_count": null,
   "id": "265a61d0",
   "metadata": {},
   "outputs": [],
   "source": []
  }
 ],
 "metadata": {
  "kernelspec": {
   "display_name": "Python 3 (ipykernel)",
   "language": "python",
   "name": "python3"
  },
  "language_info": {
   "codemirror_mode": {
    "name": "ipython",
    "version": 3
   },
   "file_extension": ".py",
   "mimetype": "text/x-python",
   "name": "python",
   "nbconvert_exporter": "python",
   "pygments_lexer": "ipython3",
   "version": "3.10.9"
  }
 },
 "nbformat": 4,
 "nbformat_minor": 5
}
