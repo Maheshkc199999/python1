{
 "cells": [
  {
   "cell_type": "code",
   "execution_count": 1,
   "id": "23429b39",
   "metadata": {},
   "outputs": [
    {
     "name": "stdout",
     "output_type": "stream",
     "text": [
      "kale\n"
     ]
    }
   ],
   "source": [
    "print('kale')"
   ]
  },
  {
   "cell_type": "code",
   "execution_count": null,
   "id": "e352b1f1",
   "metadata": {},
   "outputs": [],
   "source": []
  },
  {
   "cell_type": "code",
   "execution_count": 2,
   "id": "1d675b0d",
   "metadata": {},
   "outputs": [
    {
     "name": "stdout",
     "output_type": "stream",
     "text": [
      "1.0\n",
      "2\n",
      "(1+0j)\n",
      "<class 'float'>\n",
      "<class 'int'>\n",
      "<class 'complex'>\n"
     ]
    }
   ],
   "source": [
    "x = float(1)\n",
    "y = int(2.8)\n",
    "z = complex(1)\n",
    "print(x)\n",
    "print(y)\n",
    "print(z)\n",
    "print(type(x))\n",
    "print(type(y))\n",
    "print(type(z))\n"
   ]
  },
  {
   "cell_type": "code",
   "execution_count": 1,
   "id": "a712f6e1",
   "metadata": {},
   "outputs": [
    {
     "name": "stdout",
     "output_type": "stream",
     "text": [
      "kera\n"
     ]
    },
    {
     "data": {
      "text/plain": [
       "list"
      ]
     },
     "execution_count": 1,
     "metadata": {},
     "output_type": "execute_result"
    }
   ],
   "source": [
    "this=['banana','kale','kera']\n",
    "print(this[2])\n",
    "type(this)"
   ]
  },
  {
   "cell_type": "code",
   "execution_count": 9,
   "id": "c64f9293",
   "metadata": {},
   "outputs": [
    {
     "name": "stdout",
     "output_type": "stream",
     "text": [
      "hello world\n"
     ]
    }
   ],
   "source": [
    "a=\"hello wOrld\"\n",
    "print(a.lower())"
   ]
  },
  {
   "cell_type": "code",
   "execution_count": 13,
   "id": "fef9cf99",
   "metadata": {},
   "outputs": [
    {
     "name": "stdout",
     "output_type": "stream",
     "text": [
      "hello world\n"
     ]
    }
   ],
   "source": [
    "a=\"          hello world\"\n",
    "print(a.strip())"
   ]
  },
  {
   "cell_type": "code",
   "execution_count": 15,
   "id": "c4741aee",
   "metadata": {},
   "outputs": [
    {
     "name": "stdout",
     "output_type": "stream",
     "text": [
      "I have 13 apples 11 banana 12 watermelon\n"
     ]
    }
   ],
   "source": [
    "apple=12\n",
    "banana=13\n",
    "watermelon=11\n",
    "this='I have {1} apples {2} banana {0} watermelon'\n",
    "print(this.format(apple,banana,watermelon))"
   ]
  },
  {
   "cell_type": "code",
   "execution_count": 16,
   "id": "7234debb",
   "metadata": {},
   "outputs": [
    {
     "ename": "SyntaxError",
     "evalue": "invalid syntax (4013392309.py, line 1)",
     "output_type": "error",
     "traceback": [
      "\u001b[1;36m  Cell \u001b[1;32mIn[16], line 1\u001b[1;36m\u001b[0m\n\u001b[1;33m    txt = \"We are the so-called \"Vikings\" from the north.\"\u001b[0m\n\u001b[1;37m                                 ^\u001b[0m\n\u001b[1;31mSyntaxError\u001b[0m\u001b[1;31m:\u001b[0m invalid syntax\n"
     ]
    }
   ],
   "source": [
    "txt = \"We are the so-called \"Vikings\" from the north.\"\n",
    "print(txt)"
   ]
  },
  {
   "cell_type": "code",
   "execution_count": 18,
   "id": "7ef85184",
   "metadata": {},
   "outputs": [
    {
     "name": "stdout",
     "output_type": "stream",
     "text": [
      "True\n"
     ]
    }
   ],
   "source": [
    "d=True\n",
    "print(d)"
   ]
  },
  {
   "cell_type": "code",
   "execution_count": 25,
   "id": "f3afb8a8",
   "metadata": {},
   "outputs": [
    {
     "name": "stdout",
     "output_type": "stream",
     "text": [
      "false\n",
      "<class 'int'>\n"
     ]
    }
   ],
   "source": [
    "a=12\n",
    "b=13\n",
    "if a>b:\n",
    "      print(\"true\")\n",
    "else:\n",
    "    print(\"false\")\n",
    "print(type(b))"
   ]
  },
  {
   "cell_type": "code",
   "execution_count": 28,
   "id": "28434a55",
   "metadata": {},
   "outputs": [
    {
     "name": "stdout",
     "output_type": "stream",
     "text": [
      "1\n"
     ]
    }
   ],
   "source": [
    "a=15\n",
    "b=14 \n",
    "c=a//b\n",
    "print(c)"
   ]
  },
  {
   "cell_type": "code",
   "execution_count": 3,
   "id": "43139627",
   "metadata": {},
   "outputs": [
    {
     "ename": "TypeError",
     "evalue": "'str' object cannot be interpreted as an integer",
     "output_type": "error",
     "traceback": [
      "\u001b[1;31m---------------------------------------------------------------------------\u001b[0m",
      "\u001b[1;31mTypeError\u001b[0m                                 Traceback (most recent call last)",
      "Cell \u001b[1;32mIn[3], line 2\u001b[0m\n\u001b[0;32m      1\u001b[0m \u001b[38;5;28mlist\u001b[39m\u001b[38;5;241m=\u001b[39m[\u001b[38;5;124m\"\u001b[39m\u001b[38;5;124mbanana\u001b[39m\u001b[38;5;124m\"\u001b[39m,\u001b[38;5;124m\"\u001b[39m\u001b[38;5;124mapple\u001b[39m\u001b[38;5;124m\"\u001b[39m,\u001b[38;5;124m\"\u001b[39m\u001b[38;5;124morange\u001b[39m\u001b[38;5;124m\"\u001b[39m]\n\u001b[1;32m----> 2\u001b[0m \u001b[38;5;28;43mlist\u001b[39;49m\u001b[38;5;241;43m.\u001b[39;49m\u001b[43mpop\u001b[49m\u001b[43m(\u001b[49m\u001b[38;5;124;43m\"\u001b[39;49m\u001b[38;5;124;43mapple\u001b[39;49m\u001b[38;5;124;43m\"\u001b[39;49m\u001b[43m)\u001b[49m\n\u001b[0;32m      3\u001b[0m \u001b[38;5;28mprint\u001b[39m(\u001b[38;5;28mlist\u001b[39m)\n",
      "\u001b[1;31mTypeError\u001b[0m: 'str' object cannot be interpreted as an integer"
     ]
    }
   ],
   "source": [
    "list=[\"banana\",\"apple\",\"orange\"]\n",
    "list.pop(\"apple\")\n",
    "print(list)"
   ]
  },
  {
   "cell_type": "code",
   "execution_count": 11,
   "id": "0dc1ce72",
   "metadata": {},
   "outputs": [
    {
     "ename": "TypeError",
     "evalue": "'tuple' object does not support item assignment",
     "output_type": "error",
     "traceback": [
      "\u001b[1;31m---------------------------------------------------------------------------\u001b[0m",
      "\u001b[1;31mTypeError\u001b[0m                                 Traceback (most recent call last)",
      "Cell \u001b[1;32mIn[11], line 3\u001b[0m\n\u001b[0;32m      1\u001b[0m M \u001b[38;5;241m=\u001b[39m (\u001b[38;5;124m\"\u001b[39m\u001b[38;5;124mbanana\u001b[39m\u001b[38;5;124m\"\u001b[39m,\u001b[38;5;124m\"\u001b[39m\u001b[38;5;124mmango\u001b[39m\u001b[38;5;124m\"\u001b[39m,\u001b[38;5;124m\"\u001b[39m\u001b[38;5;124mapple\u001b[39m\u001b[38;5;124m\"\u001b[39m)\n\u001b[0;32m      2\u001b[0m y\u001b[38;5;241m=\u001b[39m \u001b[38;5;28mtuple\u001b[39m(M)\n\u001b[1;32m----> 3\u001b[0m y[\u001b[38;5;241m1\u001b[39m] \u001b[38;5;241m=\u001b[39m \u001b[38;5;124m\"\u001b[39m\u001b[38;5;124mkiwi\u001b[39m\u001b[38;5;124m\"\u001b[39m\n\u001b[0;32m      4\u001b[0m M \u001b[38;5;241m=\u001b[39m \u001b[38;5;28mtuple\u001b[39m(y)\n\u001b[0;32m      5\u001b[0m \u001b[38;5;28mprint\u001b[39m(M)\n",
      "\u001b[1;31mTypeError\u001b[0m: 'tuple' object does not support item assignment"
     ]
    }
   ],
   "source": [
    "M = (\"banana\",\"mango\",\"apple\")\n",
    "y= tuple(M)\n",
    "y[1] = \"kiwi\"\n",
    "M = tuple(y)\n",
    "print(M)"
   ]
  },
  {
   "cell_type": "code",
   "execution_count": 10,
   "id": "5059b575",
   "metadata": {},
   "outputs": [
    {
     "ename": "TypeError",
     "evalue": "'list' object is not callable",
     "output_type": "error",
     "traceback": [
      "\u001b[1;31m---------------------------------------------------------------------------\u001b[0m",
      "\u001b[1;31mTypeError\u001b[0m                                 Traceback (most recent call last)",
      "Cell \u001b[1;32mIn[10], line 2\u001b[0m\n\u001b[0;32m      1\u001b[0m x \u001b[38;5;241m=\u001b[39m (\u001b[38;5;124m\"\u001b[39m\u001b[38;5;124mapple\u001b[39m\u001b[38;5;124m\"\u001b[39m, \u001b[38;5;124m\"\u001b[39m\u001b[38;5;124mbanana\u001b[39m\u001b[38;5;124m\"\u001b[39m, \u001b[38;5;124m\"\u001b[39m\u001b[38;5;124mcherry\u001b[39m\u001b[38;5;124m\"\u001b[39m)\n\u001b[1;32m----> 2\u001b[0m y \u001b[38;5;241m=\u001b[39m \u001b[38;5;28;43mlist\u001b[39;49m\u001b[43m(\u001b[49m\u001b[43mx\u001b[49m\u001b[43m)\u001b[49m\n\u001b[0;32m      3\u001b[0m y[\u001b[38;5;241m-\u001b[39m\u001b[38;5;241m1\u001b[39m] \u001b[38;5;241m=\u001b[39m \u001b[38;5;124m\"\u001b[39m\u001b[38;5;124mkiwi\u001b[39m\u001b[38;5;124m\"\u001b[39m\n\u001b[0;32m      4\u001b[0m x \u001b[38;5;241m=\u001b[39m \u001b[38;5;28mtuple\u001b[39m(y)\n",
      "\u001b[1;31mTypeError\u001b[0m: 'list' object is not callable"
     ]
    }
   ],
   "source": [
    "x = (\"apple\", \"banana\", \"cherry\")\n",
    "y = list(x)\n",
    "y[-1] = \"kiwi\"\n",
    "x = tuple(y)\n",
    "\n",
    "print(x)\n"
   ]
  },
  {
   "cell_type": "code",
   "execution_count": 1,
   "id": "c5218dc1",
   "metadata": {},
   "outputs": [
    {
     "name": "stdout",
     "output_type": "stream",
     "text": [
      "(1, 3, 5, 6, 7)\n"
     ]
    }
   ],
   "source": [
    "x =(1,3,4)\n",
    "y=x[:2]+(5,6,7)\n",
    "print(y)\n",
    "\n"
   ]
  },
  {
   "cell_type": "code",
   "execution_count": 4,
   "id": "d36600c6",
   "metadata": {},
   "outputs": [
    {
     "name": "stdout",
     "output_type": "stream",
     "text": [
      "hi world\n"
     ]
    }
   ],
   "source": [
    "a=\"hello world\"\n",
    "b=a.replace(\"hello\",\"hi\")\n",
    "print(b)"
   ]
  },
  {
   "cell_type": "code",
   "execution_count": 5,
   "id": "3b232842",
   "metadata": {},
   "outputs": [
    {
     "name": "stdout",
     "output_type": "stream",
     "text": [
      "1\n"
     ]
    }
   ],
   "source": [
    "a=True\n",
    "b=False\n",
    "c=a+b\n",
    "print(c)"
   ]
  },
  {
   "cell_type": "code",
   "execution_count": 6,
   "id": "e36c9387",
   "metadata": {},
   "outputs": [
    {
     "name": "stdout",
     "output_type": "stream",
     "text": [
      "0\n"
     ]
    }
   ],
   "source": [
    "a=True\n",
    "b=False\n",
    "c=a*b\n",
    "print(c)"
   ]
  },
  {
   "cell_type": "code",
   "execution_count": 11,
   "id": "78846ddb",
   "metadata": {},
   "outputs": [
    {
     "name": "stdout",
     "output_type": "stream",
     "text": [
      "a\n"
     ]
    },
    {
     "ename": "ValueError",
     "evalue": "not enough values to unpack (expected 3, got 1)",
     "output_type": "error",
     "traceback": [
      "\u001b[1;31m---------------------------------------------------------------------------\u001b[0m",
      "\u001b[1;31mValueError\u001b[0m                                Traceback (most recent call last)",
      "Cell \u001b[1;32mIn[11], line 1\u001b[0m\n\u001b[1;32m----> 1\u001b[0m a,b,c\u001b[38;5;241m=\u001b[39m\u001b[38;5;28minput\u001b[39m()\u001b[38;5;241m.\u001b[39msplit()\n\u001b[0;32m      2\u001b[0m \u001b[38;5;28mprint\u001b[39m(a\u001b[38;5;241m+\u001b[39mb\u001b[38;5;241m+\u001b[39mc)\n",
      "\u001b[1;31mValueError\u001b[0m: not enough values to unpack (expected 3, got 1)"
     ]
    }
   ],
   "source": [
    "\n",
    "a,b,c=input().split()\n",
    "print(a+b+c)\n"
   ]
  },
  {
   "cell_type": "code",
   "execution_count": 12,
   "id": "a423816b",
   "metadata": {},
   "outputs": [
    {
     "name": "stdout",
     "output_type": "stream",
     "text": [
      "1\n"
     ]
    },
    {
     "ename": "ValueError",
     "evalue": "not enough values to unpack (expected 2, got 1)",
     "output_type": "error",
     "traceback": [
      "\u001b[1;31m---------------------------------------------------------------------------\u001b[0m",
      "\u001b[1;31mValueError\u001b[0m                                Traceback (most recent call last)",
      "Cell \u001b[1;32mIn[12], line 1\u001b[0m\n\u001b[1;32m----> 1\u001b[0m a, b \u001b[38;5;241m=\u001b[39m \u001b[38;5;28mmap\u001b[39m(\u001b[38;5;28mint\u001b[39m, \u001b[38;5;28minput\u001b[39m()\u001b[38;5;241m.\u001b[39msplit())\n\u001b[0;32m      2\u001b[0m \u001b[38;5;28mprint\u001b[39m(a\u001b[38;5;241m+\u001b[39mb)\n",
      "\u001b[1;31mValueError\u001b[0m: not enough values to unpack (expected 2, got 1)"
     ]
    }
   ],
   "source": [
    "a, b = map(int, input().split())\n",
    "print(a+b)"
   ]
  },
  {
   "cell_type": "code",
   "execution_count": 13,
   "id": "7945807e",
   "metadata": {},
   "outputs": [
    {
     "name": "stdout",
     "output_type": "stream",
     "text": [
      "10\n",
      "10\n",
      "1010\n"
     ]
    }
   ],
   "source": [
    "a=input()\n",
    "b=input()\n",
    "print(a+b)"
   ]
  },
  {
   "cell_type": "code",
   "execution_count": 14,
   "id": "95142c1c",
   "metadata": {},
   "outputs": [
    {
     "name": "stdout",
     "output_type": "stream",
     "text": [
      "30.3\n"
     ]
    }
   ],
   "source": [
    "a=10.3\n",
    "b=20\n",
    "print(a+b)"
   ]
  },
  {
   "cell_type": "code",
   "execution_count": 15,
   "id": "ffd1f100",
   "metadata": {},
   "outputs": [
    {
     "name": "stdout",
     "output_type": "stream",
     "text": [
      "10\n",
      "10\n",
      "20\n"
     ]
    }
   ],
   "source": [
    "a=int(input())\n",
    "b=int(input())\n",
    "print(a+b)"
   ]
  },
  {
   "cell_type": "code",
   "execution_count": null,
   "id": "eb854d67",
   "metadata": {},
   "outputs": [],
   "source": [
    "Type casting\n",
    "#int() str() float()"
   ]
  },
  {
   "cell_type": "code",
   "execution_count": 4,
   "id": "624790ee",
   "metadata": {},
   "outputs": [
    {
     "name": "stdout",
     "output_type": "stream",
     "text": [
      "2\n"
     ]
    },
    {
     "ename": "ValueError",
     "evalue": "not enough values to unpack (expected 3, got 1)",
     "output_type": "error",
     "traceback": [
      "\u001b[1;31m---------------------------------------------------------------------------\u001b[0m",
      "\u001b[1;31mValueError\u001b[0m                                Traceback (most recent call last)",
      "Cell \u001b[1;32mIn[4], line 1\u001b[0m\n\u001b[1;32m----> 1\u001b[0m a,b,c\u001b[38;5;241m=\u001b[39m\u001b[38;5;28minput\u001b[39m()\u001b[38;5;241m.\u001b[39msplit()\n\u001b[0;32m      2\u001b[0m \u001b[38;5;28mprint\u001b[39m(a)\n\u001b[0;32m      3\u001b[0m \u001b[38;5;28mprint\u001b[39m(b)\n",
      "\u001b[1;31mValueError\u001b[0m: not enough values to unpack (expected 3, got 1)"
     ]
    }
   ],
   "source": [
    "a,b,c=input().split()\n",
    "print(a)\n",
    "print(b)\n",
    "print(c)"
   ]
  },
  {
   "cell_type": "code",
   "execution_count": 8,
   "id": "541f6ae6",
   "metadata": {},
   "outputs": [
    {
     "name": "stdout",
     "output_type": "stream",
     "text": [
      "enter the marks 22\n",
      "enter the marks 33\n",
      "enter the marks 2\n",
      "total 57\n",
      "percentage 19.0\n"
     ]
    }
   ],
   "source": [
    "nepali=int(input(\"enter the marks \"))\n",
    "physics=int(input('enter the marks '))\n",
    "chem=int(input('enter the marks '))\n",
    "total= nepali+ physics+chem\n",
    "per=total/3\n",
    "print('total',total)\n",
    "print(\"percentage\",round(per,2))\n"
   ]
  },
  {
   "cell_type": "code",
   "execution_count": 6,
   "id": "86c5a583",
   "metadata": {},
   "outputs": [
    {
     "name": "stdout",
     "output_type": "stream",
     "text": [
      "7\n"
     ]
    }
   ],
   "source": [
    "def add_numbers(x,y):\n",
    "   print(x+y) \n",
    "add_numbers(3,4)"
   ]
  },
  {
   "cell_type": "code",
   "execution_count": 10,
   "id": "e81bc6f8",
   "metadata": {},
   "outputs": [
    {
     "name": "stdout",
     "output_type": "stream",
     "text": [
      "dinesh\n"
     ]
    }
   ],
   "source": [
    "def my_child(*kids):\n",
    "    print(kids[2])\n",
    "    \n",
    "my_child(\"ramesh\" ,\"suresh\" ,\"dinesh\")"
   ]
  },
  {
   "cell_type": "code",
   "execution_count": 13,
   "id": "c8c47d42",
   "metadata": {},
   "outputs": [
    {
     "name": "stdout",
     "output_type": "stream",
     "text": [
      "ramesh   is my fav child\n"
     ]
    }
   ],
   "source": [
    "def my_child(child1,child2,child3):\n",
    "    print(child1,\" \",\"is my fav child\")\n",
    "my_child(child1=\"ramesh\",child2=\"dinesh\",child3=\"kartik\")"
   ]
  },
  {
   "cell_type": "code",
   "execution_count": 3,
   "id": "431dec7b",
   "metadata": {},
   "outputs": [],
   "source": [
    "#python class 4 conditionl statement"
   ]
  },
  {
   "cell_type": "code",
   "execution_count": 11,
   "id": "ca741862",
   "metadata": {},
   "outputs": [],
   "source": [
    "#syntax of if else statement\n",
    "#if condition:\n",
    " #   <condition>\n",
    "#elif condition:\n",
    "  #  <condition>\n",
    "#else:\n",
    " #   <operation>\n",
    "    "
   ]
  },
  {
   "cell_type": "code",
   "execution_count": null,
   "id": "7a53d2a0",
   "metadata": {},
   "outputs": [],
   "source": [
    "# < > <= >= !=\n"
   ]
  },
  {
   "cell_type": "code",
   "execution_count": 16,
   "id": "a0436063",
   "metadata": {},
   "outputs": [
    {
     "name": "stdout",
     "output_type": "stream",
     "text": [
      "enter a number :44\n",
      "no is positive\n"
     ]
    }
   ],
   "source": [
    "x = int(input(\"enter a number :\"))\n",
    "if x>=0:\n",
    "    print(\"no is positive\")\n",
    "else:\n",
    "    print(\"no is negative\")"
   ]
  },
  {
   "cell_type": "code",
   "execution_count": 17,
   "id": "64492580",
   "metadata": {},
   "outputs": [
    {
     "name": "stdout",
     "output_type": "stream",
     "text": [
      "Enter the vale of a:12\n",
      "Enter the value of b:13\n",
      "13 is greater then 12\n"
     ]
    }
   ],
   "source": [
    "a = int(input(\"Enter the vale of a:\"))\n",
    "b = int(input(\"Enter the value of b:\"))\n",
    "\n",
    "if a>b:\n",
    "    print(a,\"is greater then\",b)\n",
    "elif b>a:\n",
    "    print(b,\"is greater then\",a)\n",
    "else:\n",
    "    print(\"both are equal\")"
   ]
  },
  {
   "cell_type": "code",
   "execution_count": 21,
   "id": "ebea6a23",
   "metadata": {},
   "outputs": [
    {
     "name": "stdout",
     "output_type": "stream",
     "text": [
      "Enter the marks in physics:30\n",
      "Enter the marks in math:90\n",
      "Enter the marks in nepali:90\n",
      "your total marks is : 210\n",
      "your percentage is : 70.0\n",
      "your grade is: B\n"
     ]
    }
   ],
   "source": [
    "physics =int(input(\"Enter the marks in physics:\"))\n",
    "math =int(input(\"Enter the marks in math:\"))\n",
    "nepali =int(input(\"Enter the marks in nepali:\"))\n",
    "total=physics+math+nepali\n",
    "per=total/3\n",
    "if per>70:\n",
    "    grade=\"A\"\n",
    "elif per>50:\n",
    "    grade=\"B\"\n",
    "else:\n",
    "    grade=\"C\"\n",
    "print(\"your total marks is :\",total)\n",
    "print(\"your percentage is :\",per)\n",
    "print(\"your grade is:\",grade)"
   ]
  },
  {
   "cell_type": "code",
   "execution_count": null,
   "id": "e380395c",
   "metadata": {},
   "outputs": [],
   "source": [
    "#logical operator and&\n",
    "#or/"
   ]
  },
  {
   "cell_type": "code",
   "execution_count": 7,
   "id": "7d6b48f2",
   "metadata": {},
   "outputs": [
    {
     "name": "stdout",
     "output_type": "stream",
     "text": [
      "Enter a number:9\n",
      "Enter a number:0\n",
      "Enter a +-*//\n",
      "chose b other then 0\n"
     ]
    }
   ],
   "source": [
    "a = int(input(\"Enter a number:\"))\n",
    "b = int(input(\"Enter a number:\"))\n",
    "c = input(\"Enter a +-*/\")\n",
    "if c==\"+\":\n",
    "    print(a+b)\n",
    "elif c==\"-\":\n",
    "    print(a-b)\n",
    "elif (c==\"/\") & (b!=0):\n",
    "    print(a/b)\n",
    "elif (c==\"/\") & (b==0):\n",
    "    print('chose b other then 0')\n",
    "elif c==\"*\":\n",
    "    print(a*b)\n",
    "else:\n",
    "    print(\"invalid calculation\")\n",
    "    \n",
    "    \n"
   ]
  },
  {
   "cell_type": "code",
   "execution_count": null,
   "id": "f70f3927",
   "metadata": {},
   "outputs": [],
   "source": [
    "#nested if\n",
    "# if<conditon>:\n",
    "#     if<condition>:\n",
    "#         <statement>\n",
    "#     else:<statement> \n",
    "# else:\n",
    "#     if<conditoin>:\n",
    "#     else:<conditon>"
   ]
  },
  {
   "cell_type": "code",
   "execution_count": 16,
   "id": "f1edf659",
   "metadata": {},
   "outputs": [],
   "source": [
    "# loops in python\n",
    "\n"
   ]
  },
  {
   "cell_type": "code",
   "execution_count": 28,
   "id": "8d50f016",
   "metadata": {},
   "outputs": [
    {
     "name": "stdout",
     "output_type": "stream",
     "text": [
      "8 hello world\n",
      "6 hello world\n",
      "4 hello world\n",
      "2 hello world\n"
     ]
    }
   ],
   "source": [
    "for i in range(8,0,-2):\n",
    "    print(i,\"hello world\")"
   ]
  },
  {
   "cell_type": "code",
   "execution_count": 38,
   "id": "e4691f44",
   "metadata": {},
   "outputs": [
    {
     "name": "stdout",
     "output_type": "stream",
     "text": [
      "0 hello world  1 hello world  2 hello world  "
     ]
    }
   ],
   "source": [
    "for i in range(5):\n",
    "    if i==3:\n",
    "        break\n",
    "    print(i,\"hello world\",end=\"  \")"
   ]
  },
  {
   "cell_type": "code",
   "execution_count": 31,
   "id": "f235fdd6",
   "metadata": {},
   "outputs": [
    {
     "name": "stdout",
     "output_type": "stream",
     "text": [
      "0\n",
      "1\n",
      "2\n",
      "3\n",
      "4\n",
      "6\n",
      "7\n",
      "8\n",
      "9\n"
     ]
    }
   ],
   "source": [
    "for i in range(10):\n",
    "    if i == 5:\n",
    "        continue\n",
    "    print(i)"
   ]
  },
  {
   "cell_type": "code",
   "execution_count": 40,
   "id": "c98ddd68",
   "metadata": {},
   "outputs": [
    {
     "name": "stdout",
     "output_type": "stream",
     "text": [
      "enter a number:12\n",
      "12 * 1 = 12\n",
      "12 * 2 = 24\n",
      "12 * 3 = 36\n",
      "12 * 4 = 48\n",
      "12 * 5 = 60\n",
      "12 * 6 = 72\n",
      "12 * 7 = 84\n",
      "12 * 8 = 96\n",
      "12 * 9 = 108\n",
      "12 * 10 = 120\n"
     ]
    }
   ],
   "source": [
    "n = int(input(\"enter a number:\"))\n",
    "for i in range(1,11):\n",
    "    print(n,\"*\",i,\"=\",n*i)"
   ]
  },
  {
   "cell_type": "code",
   "execution_count": 2,
   "id": "bfb0700e",
   "metadata": {},
   "outputs": [],
   "source": [
    "for i in range(0,8,-2):\n",
    "    if i==6:\n",
    "        break\n",
    "    print(i)"
   ]
  },
  {
   "cell_type": "code",
   "execution_count": null,
   "id": "82941141",
   "metadata": {},
   "outputs": [],
   "source": [
    "s=0\n",
    "for i in range(3):\n",
    "    x=int(input(\"enter the value=\"))\n",
    "    s=s+x\n",
    "    print(s)"
   ]
  },
  {
   "cell_type": "code",
   "execution_count": 1,
   "id": "544fa3ea",
   "metadata": {},
   "outputs": [
    {
     "name": "stdout",
     "output_type": "stream",
     "text": [
      "enter the value of n:3\n",
      "enter the value=5\n",
      "5\n",
      "enter the value=7\n",
      "12\n",
      "enter the value=9\n",
      "21\n"
     ]
    }
   ],
   "source": [
    "s=0\n",
    "n=int(input(\"enter the value of n:\"))\n",
    "for i in range(n):\n",
    "    x=int(input(\"enter the value=\"))\n",
    "    s=s+x\n",
    "    print(s)"
   ]
  },
  {
   "cell_type": "code",
   "execution_count": null,
   "id": "756c3875",
   "metadata": {},
   "outputs": [],
   "source": [
    "#Wap to calculate factorial\n",
    "#wap to calculate grade of multiple students\n",
    "#wap to create a billing system\n",
    "------name,price,quantity,total"
   ]
  },
  {
   "cell_type": "code",
   "execution_count": null,
   "id": "dd42268f",
   "metadata": {},
   "outputs": [],
   "source": [
    "n = int(input(\"Enter the no of student\"))\n",
    "for i in range(n):\n",
    "    student_name=input(\"Enter the name of student or exit\")\n",
    "    if student_name==\"exit\":\n",
    "        break\n",
    "    physics=int(input(\"enter marks obtains in physics:\"))\n",
    "    maths=int(input(\"enter marks obtains in maths:\"))\n",
    "    biology=int(input(\"enter marks obtains in biology:\"))\n",
    "    nepali=int(input(\"enter marks obtains in nepali:\"))\n",
    "    total=physics+maths+nepali+biology\n",
    "    per=total/4\n",
    "    if per>=90:\n",
    "        print(\"student has got A+\")\n",
    "    elif per>=80:\n",
    "        print(\"student has got A\")\n",
    "    elif per>=70:\n",
    "        print(\"student has got B+\")\n",
    "    elif per>=60:\n",
    "        print(\"student has got B\")\n",
    "    elif per>=50:\n",
    "        print(\"student has got C+\")\n",
    "    elif per>=400:\n",
    "        print(\"student has got C\")\n",
    "    else:print(\"student is fail\")\n",
    "    "
   ]
  },
  {
   "cell_type": "code",
   "execution_count": null,
   "id": "6d7aaac2",
   "metadata": {},
   "outputs": [],
   "source": [
    "total=0\n",
    "n=int(input(\"Enter the no of product\"))\n",
    "for i in range(n):\n",
    "        product=input(\"Enter the name of product or exit:\")\n",
    "        if product==\"exit\":\n",
    "            break\n",
    "        cost=int(input(\"Enter the price:\"))\n",
    "        quantity=int(input(\"Enter the quantity:\"))\n",
    "        price=cost*quantity\\\n",
    "        print(price)\n",
    "        total=total+price\n",
    "print(\"Your total bill is: \",total)\n",
    "\n",
    "       \n"
   ]
  },
  {
   "cell_type": "code",
   "execution_count": null,
   "id": "5cb1e8f2",
   "metadata": {},
   "outputs": [],
   "source": [
    "s=1\n",
    "n=int(input(\"enter a number:\"))\n",
    "for i in range(1,n+1):\n",
    "    s=s*i\n",
    "    print(s)"
   ]
  },
  {
   "cell_type": "code",
   "execution_count": null,
   "id": "c3b8f2f8",
   "metadata": {},
   "outputs": [
    {
     "name": "stdout",
     "output_type": "stream",
     "text": [
      "enter n:3\n",
      "enter the name of product:x\n",
      "enter the price of product:12\n",
      "enter the quantity of product:2\n",
      "x 12 2.0 24.0\n",
      "\n"
     ]
    }
   ],
   "source": [
    "info=\"\"\n",
    "n=int(input(\"enter n:\"))\n",
    "for i in range(n):\n",
    "    name=input(\"enter the name of product:\")\n",
    "    price=int(input(\"enter the price of product:\"))\n",
    "    quantity=float(input(\"enter the quantity of product:\"))\n",
    "    total=price*quantity\n",
    "    data=name+\" \"+str(price)+\" \"+str(quantity)+\" \"+str(total)+\"\\n\"\n",
    "    info=info+data\n",
    "    print(info)"
   ]
  },
  {
   "cell_type": "code",
   "execution_count": null,
   "id": "1c43e832",
   "metadata": {},
   "outputs": [],
   "source": [
    "\n",
    "\n",
    "\n",
    "\n",
    "\n"
   ]
  }
 ],
 "metadata": {
  "kernelspec": {
   "display_name": "Python 3 (ipykernel)",
   "language": "python",
   "name": "python3"
  },
  "language_info": {
   "codemirror_mode": {
    "name": "ipython",
    "version": 3
   },
   "file_extension": ".py",
   "mimetype": "text/x-python",
   "name": "python",
   "nbconvert_exporter": "python",
   "pygments_lexer": "ipython3",
   "version": "3.10.9"
  }
 },
 "nbformat": 4,
 "nbformat_minor": 5
}
