{
 "cells": [
  {
   "cell_type": "code",
   "execution_count": 2,
   "id": "d41e0101",
   "metadata": {},
   "outputs": [],
   "source": [
    "# file = open('<file_name>','<mode>')\n",
    "# <operation>\n",
    "# file.close()\n",
    "# with open('<file_name>','<mode>')as file:\n",
    "#     <operation>\n",
    "# modes\n",
    "# r ->read\n",
    "# w ->write\n",
    "# x ->create\n",
    "# a ->append"
   ]
  },
  {
   "cell_type": "code",
   "execution_count": 3,
   "id": "fbfbe2b7",
   "metadata": {},
   "outputs": [],
   "source": [
    "file = open('data.txt','x')\n",
    "file.close()"
   ]
  },
  {
   "cell_type": "code",
   "execution_count": 7,
   "id": "485f43f7",
   "metadata": {},
   "outputs": [
    {
     "name": "stdout",
     "output_type": "stream",
     "text": [
      "1.Hello world\n",
      "2.Hello world\n",
      "3.Hello world\n",
      "4.Hello world\n",
      "5.Hello world\n",
      "6.Hello world\n",
      "7.Hello world\n",
      "<class 'str'>\n"
     ]
    }
   ],
   "source": [
    "file = open('data.txt','r')\n",
    "x = file.read()\n",
    "print(x)\n",
    "print(type(x))\n",
    "file.close()"
   ]
  },
  {
   "cell_type": "code",
   "execution_count": 8,
   "id": "f666788f",
   "metadata": {},
   "outputs": [
    {
     "name": "stdout",
     "output_type": "stream",
     "text": [
      "['1.Hello world', '2.Hello world', '3.Hello world', '4.Hello world', '5.Hello world', '6.Hello world', '7.Hello world']\n"
     ]
    }
   ],
   "source": [
    "y = x.split('\\n')\n",
    "print(y)"
   ]
  },
  {
   "cell_type": "code",
   "execution_count": 9,
   "id": "ed955d1b",
   "metadata": {},
   "outputs": [
    {
     "data": {
      "text/plain": [
       "'1.Hello world\\n2.Hello world\\n3.Hello world\\n4.Hello world\\n5.Hello world\\n6.Hello world\\n7.Hello world'"
      ]
     },
     "execution_count": 9,
     "metadata": {},
     "output_type": "execute_result"
    }
   ],
   "source": [
    "x"
   ]
  },
  {
   "cell_type": "code",
   "execution_count": 10,
   "id": "3247bc02",
   "metadata": {},
   "outputs": [
    {
     "data": {
      "text/plain": [
       "'1.Hello world'"
      ]
     },
     "execution_count": 10,
     "metadata": {},
     "output_type": "execute_result"
    }
   ],
   "source": [
    "y[0]"
   ]
  },
  {
   "cell_type": "code",
   "execution_count": 13,
   "id": "425d748c",
   "metadata": {},
   "outputs": [
    {
     "name": "stdout",
     "output_type": "stream",
     "text": [
      "Enter the line no= 5\n"
     ]
    },
    {
     "data": {
      "text/plain": [
       "'5.Hello world'"
      ]
     },
     "execution_count": 13,
     "metadata": {},
     "output_type": "execute_result"
    }
   ],
   "source": [
    "line_no = int(input(\"Enter the line no= \"))\n",
    "y[line_no-1]"
   ]
  },
  {
   "cell_type": "code",
   "execution_count": 14,
   "id": "fc86708b",
   "metadata": {},
   "outputs": [],
   "source": [
    "# write\n",
    "file = open('data1.txt','w')\n",
    "file.write('Hello world')\n",
    "file.close()"
   ]
  },
  {
   "cell_type": "code",
   "execution_count": 2,
   "id": "cea0913f",
   "metadata": {},
   "outputs": [
    {
     "name": "stdout",
     "output_type": "stream",
     "text": [
      "enter the n: 3\n",
      "enter the name: mm\n",
      "enter the price: 4\n",
      "enter the quantity: 5\n",
      "enter the name: ff\n",
      "enter the price: 5\n",
      "enter the quantity: 6\n",
      "enter the name: ddd\n",
      "enter the price: 5\n",
      "enter the quantity: 6\n",
      "mm 4 5 20\n",
      "ff 5 6 30\n",
      "ddd 5 6 30\n",
      "\n"
     ]
    }
   ],
   "source": [
    "info = ''\n",
    "n = int(input(\"enter the n: \"))\n",
    "for i in range(n):\n",
    "    name = input('enter the name: ')\n",
    "    price =int(input(\"enter the price: \"))\n",
    "    quantity = int(input(\"enter the quantity: \"))\n",
    "    total = price*quantity\n",
    "    data = f\"{name} {price} {quantity} {total}\\n\"\n",
    "    info = info+data\n",
    "print(info)\n",
    "file = open('data2.txt','w')\n",
    "file.write(info)\n",
    "file.close()"
   ]
  },
  {
   "cell_type": "code",
   "execution_count": 3,
   "id": "5a16591a",
   "metadata": {},
   "outputs": [
    {
     "name": "stdout",
     "output_type": "stream",
     "text": [
      "enter the n: 3\n",
      "enter the name: nn\n",
      "enter the price: 55\n",
      "enter the quantity: 4\n",
      "enter the name: nn\n",
      "enter the price: 5\n",
      "enter the quantity: 4\n",
      "enter the name: cc\n",
      "enter the price: 5\n",
      "enter the quantity: 6\n",
      "nn 55 4 220\n",
      "nn 5 4 20\n",
      "cc 5 6 30\n",
      "\n"
     ]
    }
   ],
   "source": [
    "info = ''\n",
    "n = int(input(\"enter the n: \"))\n",
    "for i in range(n):\n",
    "    name = input('enter the name: ')\n",
    "    price =int(input(\"enter the price: \"))\n",
    "    quantity = int(input(\"enter the quantity: \"))\n",
    "    total = price*quantity\n",
    "    data = f\"{name} {price} {quantity} {total}\\n\"\n",
    "    info = info+data\n",
    "print(info)\n",
    "file = open('data2.txt','a')\n",
    "file.write(info)\n",
    "file.close()"
   ]
  },
  {
   "cell_type": "code",
   "execution_count": 1,
   "id": "00336efe",
   "metadata": {},
   "outputs": [
    {
     "name": "stdout",
     "output_type": "stream",
     "text": [
      "enter the n: 2\n",
      "enter the name: rr\n",
      "enter the price: 4\n",
      "enter the quantity: 3\n",
      "enter the name: ff\n",
      "enter the price: 3\n",
      "enter the quantity: 4\n",
      "rr 4 3 12\n",
      "ff 3 4 12\n",
      "\n"
     ]
    }
   ],
   "source": [
    "info = ''\n",
    "file = open('data2.txt','a')\n",
    "n = int(input(\"enter the n: \"))\n",
    "for i in range(n):\n",
    "    name = input('enter the name: ')\n",
    "    price = int(input(\"enter the price: \"))\n",
    "    quantity = int(input(\"enter the quantity: \"))\n",
    "    total = price*quantity\n",
    "    data = f\"{name} {price} {quantity} {total}\\n\"\n",
    "    info = info+data\n",
    "    file.write(info)\n",
    "print(info)\n",
    "file.close()"
   ]
  },
  {
   "cell_type": "code",
   "execution_count": 2,
   "id": "d44e0634",
   "metadata": {},
   "outputs": [
    {
     "name": "stdout",
     "output_type": "stream",
     "text": [
      "enter the name: 55\n",
      "enter the price: 3\n",
      "enter the quantity: 4\n",
      "enter y for next entry: 3\n"
     ]
    }
   ],
   "source": [
    "\n",
    "file = open('data2.txt','a')\n",
    "while True:\n",
    "    name = input('enter the name: ')\n",
    "    price =int(input(\"enter the price: \"))\n",
    "    quantity = int(input(\"enter the quantity: \"))\n",
    "    total = price*quantity\n",
    "    data = f\"{name} {price} {quantity} {total}\\n\"\n",
    "    file.write(data)\n",
    "    x = input('enter y for next entry: ')\n",
    "    if x=='y':\n",
    "        continue\n",
    "    else:\n",
    "        break\n",
    "file.close()"
   ]
  },
  {
   "cell_type": "code",
   "execution_count": 3,
   "id": "731a70af",
   "metadata": {},
   "outputs": [
    {
     "data": {
      "text/plain": [
       "'C:\\\\Users\\\\HP\\\\Desktop\\\\naresh'"
      ]
     },
     "execution_count": 3,
     "metadata": {},
     "output_type": "execute_result"
    }
   ],
   "source": [
    "pwd"
   ]
  },
  {
   "cell_type": "code",
   "execution_count": 8,
   "id": "d6303f44",
   "metadata": {},
   "outputs": [
    {
     "name": "stdout",
     "output_type": "stream",
     "text": [
      "enter the name: momo\n",
      "enter the price: 4\n",
      "enter the quantity: 5\n",
      "enter y for next entry: y\n",
      "enter the name: nono\n",
      "enter the price: 5\n",
      "enter the quantity: 3\n",
      "enter y for next entry: y\n",
      "enter the name: kho\n",
      "enter the price: 5\n",
      "enter the quantity: 6\n",
      "enter y for next entry: y\n",
      "enter the name: yaa\n",
      "enter the price: 3\n",
      "enter the quantity: 4\n",
      "enter y for next entry: t\n"
     ]
    }
   ],
   "source": [
    "\n",
    "file = open('bill.csv','a')\n",
    "while True:\n",
    "    name = input('enter the name: ')\n",
    "    price =int(input(\"enter the price: \"))\n",
    "    quantity = int(input(\"enter the quantity: \"))\n",
    "    total = price*quantity\n",
    "    data = f\"{name},{price},{quantity},{total}\\n\"\n",
    "    file.write(data)\n",
    "    x = input('enter y for next entry: ')\n",
    "    if x=='y':\n",
    "        continue\n",
    "    else:\n",
    "        break\n",
    "file.close()"
   ]
  },
  {
   "cell_type": "code",
   "execution_count": 6,
   "id": "62374f8a",
   "metadata": {},
   "outputs": [
    {
     "data": {
      "text/plain": [
       "'C:\\\\Users\\\\HP\\\\Desktop\\\\naresh'"
      ]
     },
     "execution_count": 6,
     "metadata": {},
     "output_type": "execute_result"
    }
   ],
   "source": [
    "pwd"
   ]
  },
  {
   "cell_type": "code",
   "execution_count": 11,
   "id": "57836f57",
   "metadata": {},
   "outputs": [
    {
     "data": {
      "text/plain": [
       "26"
      ]
     },
     "execution_count": 11,
     "metadata": {},
     "output_type": "execute_result"
    }
   ],
   "source": [
    "file = open('bill2.csv','a')\n",
    "file.write('name,price,quantity,total\\n')\n",
    "file.close()"
   ]
  },
  {
   "cell_type": "code",
   "execution_count": 12,
   "id": "ba2e110f",
   "metadata": {},
   "outputs": [
    {
     "name": "stdout",
     "output_type": "stream",
     "text": [
      "enter the name: y\n",
      "enter the price: 4\n",
      "enter the quantity: 5\n",
      "enter y for next entry: y\n",
      "enter the name: f\n",
      "enter the price: 6\n",
      "enter the quantity: 7\n",
      "enter y for next entry: y\n",
      "enter the name: 4\n",
      "enter the price: 6\n",
      "enter the quantity: 5\n",
      "enter y for next entry: y\n",
      "enter the name: ff\n",
      "enter the price: 6\n",
      "enter the quantity: 4\n",
      "enter y for next entry: \n"
     ]
    }
   ],
   "source": [
    "while True:\n",
    "    name = input('enter the name: ')\n",
    "    price =int(input(\"enter the price: \"))\n",
    "    quantity = int(input(\"enter the quantity: \"))\n",
    "    total = price*quantity\n",
    "    data = f\"{name},{price},{quantity},{total}\\n\"\n",
    "    file.write(data)\n",
    "    x = input('enter y for next entry: ')\n",
    "    if x=='y':\n",
    "        continue\n",
    "    else:\n",
    "        break\n",
    "file.close()"
   ]
  },
  {
   "cell_type": "code",
   "execution_count": 13,
   "id": "783ae259",
   "metadata": {},
   "outputs": [
    {
     "data": {
      "text/plain": [
       "'C:\\\\Users\\\\HP\\\\Desktop\\\\naresh'"
      ]
     },
     "execution_count": 13,
     "metadata": {},
     "output_type": "execute_result"
    }
   ],
   "source": [
    "pwd"
   ]
  },
  {
   "cell_type": "code",
   "execution_count": 1,
   "id": "fc0051d0",
   "metadata": {},
   "outputs": [
    {
     "data": {
      "text/plain": [
       "50"
      ]
     },
     "execution_count": 1,
     "metadata": {},
     "output_type": "execute_result"
    }
   ],
   "source": [
    "def my_func(f, arg):\n",
    "  return f(arg)\n",
    "\n",
    "my_func(lambda x: 2*x*x, 5)"
   ]
  },
  {
   "cell_type": "code",
   "execution_count": null,
   "id": "c37f35d8",
   "metadata": {},
   "outputs": [],
   "source": []
  }
 ],
 "metadata": {
  "kernelspec": {
   "display_name": "Python 3 (ipykernel)",
   "language": "python",
   "name": "python3"
  },
  "language_info": {
   "codemirror_mode": {
    "name": "ipython",
    "version": 3
   },
   "file_extension": ".py",
   "mimetype": "text/x-python",
   "name": "python",
   "nbconvert_exporter": "python",
   "pygments_lexer": "ipython3",
   "version": "3.10.9"
  }
 },
 "nbformat": 4,
 "nbformat_minor": 5
}
