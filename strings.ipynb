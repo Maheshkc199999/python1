{
 "cells": [
  {
   "cell_type": "code",
   "execution_count": 2,
   "id": "c9113b55",
   "metadata": {},
   "outputs": [
    {
     "name": "stdout",
     "output_type": "stream",
     "text": [
      "hello world \n",
      "hello world \n",
      "\n"
     ]
    }
   ],
   "source": [
    "a = \"hello world \\n\"\n",
    "print(a*2)"
   ]
  },
  {
   "cell_type": "code",
   "execution_count": 5,
   "id": "96badaea",
   "metadata": {},
   "outputs": [
    {
     "name": "stdout",
     "output_type": "stream",
     "text": [
      "h hello kale\n",
      "e hello kale\n",
      "l hello kale\n",
      "l hello kale\n",
      "o hello kale\n",
      "w hello kale\n",
      "o hello kale\n",
      "r hello kale\n",
      "l hello kale\n",
      "d hello kale\n"
     ]
    }
   ],
   "source": [
    "a = \"hello world\"\n",
    "for i in a: \n",
    "    if i==\" \":\n",
    "        continue\n",
    "    print(i,\"hello kale\")"
   ]
  },
  {
   "cell_type": "code",
   "execution_count": 9,
   "id": "9471fde2",
   "metadata": {},
   "outputs": [
    {
     "name": "stdout",
     "output_type": "stream",
     "text": [
      "h\n",
      "llo worl\n",
      "lowr\n"
     ]
    }
   ],
   "source": [
    "a = \"hello world \"\n",
    "print(a[0])\n",
    "print(a[2:10])\n",
    "print(a[2:10:2])"
   ]
  },
  {
   "cell_type": "code",
   "execution_count": null,
   "id": "c2e0f4ef",
   "metadata": {},
   "outputs": [],
   "source": [
    "#index of string start with 0"
   ]
  },
  {
   "cell_type": "code",
   "execution_count": 11,
   "id": "63870ffa",
   "metadata": {},
   "outputs": [
    {
     "name": "stdout",
     "output_type": "stream",
     "text": [
      "olleh\n"
     ]
    }
   ],
   "source": [
    "a = \"hello\"\n",
    "print(a[::-1])"
   ]
  },
  {
   "cell_type": "code",
   "execution_count": 13,
   "id": "65fe12d0",
   "metadata": {},
   "outputs": [
    {
     "data": {
      "text/plain": [
       "5"
      ]
     },
     "execution_count": 13,
     "metadata": {},
     "output_type": "execute_result"
    }
   ],
   "source": [
    "a = \"hello\"\n",
    "len(a)"
   ]
  },
  {
   "cell_type": "code",
   "execution_count": 15,
   "id": "08250dce",
   "metadata": {},
   "outputs": [
    {
     "name": "stdout",
     "output_type": "stream",
     "text": [
      "hello world\n",
      " world\n"
     ]
    }
   ],
   "source": [
    "a = \"hello world\"\n",
    "print(a[0:])\n",
    "print(a[5:])"
   ]
  },
  {
   "cell_type": "code",
   "execution_count": 16,
   "id": "1aeb229b",
   "metadata": {},
   "outputs": [
    {
     "name": "stdout",
     "output_type": "stream",
     "text": [
      "['hello', 'world']\n"
     ]
    }
   ],
   "source": [
    "a = \"hello world\"\n",
    "print(a.split(\" \"))"
   ]
  },
  {
   "cell_type": "raw",
   "id": "be3febdf",
   "metadata": {},
   "source": []
  },
  {
   "cell_type": "code",
   "execution_count": 21,
   "id": "429631bf",
   "metadata": {},
   "outputs": [
    {
     "name": "stdout",
     "output_type": "stream",
     "text": [
      "enter your name: mahesh\n",
      "enter your address: ks\n",
      "enter your age: 44\n",
      "hello im  mahesh .\n",
      "im from ks .\n",
      "im 44 years old\n"
     ]
    }
   ],
   "source": [
    "name = input(\"enter your name: \")\n",
    "add = input(\"enter your address: \")\n",
    "age = int(input(\"enter your age: \"))\n",
    "info = f\"hello im  {name} .\\nim from {add} .\\nim {age} years old\"\n",
    "print(info)"
   ]
  },
  {
   "cell_type": "code",
   "execution_count": 22,
   "id": "7294d2b5",
   "metadata": {},
   "outputs": [
    {
     "name": "stdout",
     "output_type": "stream",
     "text": [
      "im in \n",
      "im not in\n"
     ]
    }
   ],
   "source": [
    "a = \"Ram Shyam Hari Geeta\"\n",
    "name=\"Hari\"\n",
    "if name in a:\n",
    "    print(\"im in \")\n",
    "name2=\"raju\"\n",
    "if name2 not in a:\n",
    "    print(\"im not in\")"
   ]
  },
  {
   "cell_type": "code",
   "execution_count": 24,
   "id": "edd9d562",
   "metadata": {},
   "outputs": [
    {
     "name": "stdout",
     "output_type": "stream",
     "text": [
      "im in \n",
      "2\n"
     ]
    }
   ],
   "source": [
    "a = \"Ram Shyam Hari Geeta Haribahadur \"\n",
    "name=\"Hari\"\n",
    "if name in a:\n",
    "    print(\"im in \")\n",
    "    print(a.count(name))"
   ]
  },
  {
   "cell_type": "code",
   "execution_count": 28,
   "id": "83e4eb01",
   "metadata": {},
   "outputs": [
    {
     "name": "stdout",
     "output_type": "stream",
     "text": [
      "HARIBAHADUR\n",
      "haribahadur\n",
      "Haribahadur\n"
     ]
    }
   ],
   "source": [
    "a = \"Haribahadur\"\n",
    "print(a.upper())\n",
    "print(a.lower())\n",
    "print(a.title())"
   ]
  },
  {
   "cell_type": "code",
   "execution_count": 30,
   "id": "9aebed2c",
   "metadata": {},
   "outputs": [
    {
     "name": "stdout",
     "output_type": "stream",
     "text": [
      "Ram Shyam Hari Geeta Haribahadur \n",
      "ram shyam hari geeta haribahadur \n"
     ]
    }
   ],
   "source": [
    "a = \"ram shyam hari geeta haribahadur \"\n",
    "print(a.title())\n",
    "print(a)"
   ]
  },
  {
   "cell_type": "code",
   "execution_count": 33,
   "id": "ebdbdc83",
   "metadata": {},
   "outputs": [
    {
     "name": "stdout",
     "output_type": "stream",
     "text": [
      "enter namehari\n",
      "im in\n"
     ]
    }
   ],
   "source": [
    "a = \"Ram Shyam Hari Geeta\".lower()\n",
    "name=input(\"enter name\").lower()\n",
    "if name in a:\n",
    "    print(\"im in\")\n",
    "else:\n",
    "    print(\"im not in\")"
   ]
  },
  {
   "cell_type": "code",
   "execution_count": null,
   "id": "ecd08fae",
   "metadata": {},
   "outputs": [],
   "source": []
  }
 ],
 "metadata": {
  "kernelspec": {
   "display_name": "Python 3 (ipykernel)",
   "language": "python",
   "name": "python3"
  },
  "language_info": {
   "codemirror_mode": {
    "name": "ipython",
    "version": 3
   },
   "file_extension": ".py",
   "mimetype": "text/x-python",
   "name": "python",
   "nbconvert_exporter": "python",
   "pygments_lexer": "ipython3",
   "version": "3.10.9"
  }
 },
 "nbformat": 4,
 "nbformat_minor": 5
}
