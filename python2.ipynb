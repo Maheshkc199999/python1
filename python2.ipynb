{
 "cells": [
  {
   "cell_type": "code",
   "execution_count": null,
   "id": "a65fdcb3",
   "metadata": {},
   "outputs": [],
   "source": [
    "#function practice\n"
   ]
  },
  {
   "cell_type": "code",
   "execution_count": 3,
   "id": "2e7bcee9",
   "metadata": {},
   "outputs": [
    {
     "name": "stdout",
     "output_type": "stream",
     "text": [
      "4 is greater then 3\n"
     ]
    }
   ],
   "source": [
    "def isGreater(a,b):\n",
    "    if a>b:\n",
    "        print(a,\"is graeter then\",b)\n",
    "    else:\n",
    "        print(b,\"is greater then\",a)\n",
    "isGreater(3,4)\n"
   ]
  },
  {
   "cell_type": "code",
   "execution_count": 1,
   "id": "50a38dba",
   "metadata": {},
   "outputs": [
    {
     "name": "stdout",
     "output_type": "stream",
     "text": [
      "22\n"
     ]
    }
   ],
   "source": [
    "def myfunc(n):\n",
    "  return lambda a : a * n\n",
    "\n",
    "mydoubler = myfunc(2)\n",
    "\n",
    "print(mydoubler(11))"
   ]
  },
  {
   "cell_type": "code",
   "execution_count": null,
   "id": "4993c849",
   "metadata": {},
   "outputs": [],
   "source": [
    "s=1\n",
    "n=int(input(\"enter a number:\"))\n",
    "for i in range(1,n+1):\n",
    "    s=s*i\n",
    "    print(s)"
   ]
  },
  {
   "cell_type": "code",
   "execution_count": null,
   "id": "ef9604d9",
   "metadata": {},
   "outputs": [],
   "source": [
    "total=0\n",
    "for i in range(10):\n",
    "    product=input(\"Enter the name of product or exit:\")\n",
    "    if product==\"exit\":\n",
    "        break\n",
    "    cost=int(input(\"Enter the price:\"))\n",
    "    quantity=int(input(\"Enter the quantity:\"))\n",
    "    price=cost*quantity\n",
    "    total=total+price\n",
    "    print(\"Your total bill is: \",total)\n",
    "   \n",
    "       \n"
   ]
  },
  {
   "cell_type": "code",
   "execution_count": null,
   "id": "90368b9f",
   "metadata": {},
   "outputs": [],
   "source": [
    "n = int(input(\"Enter the no of student\"))\n",
    "for i in range(n):\n",
    "    student_name=input(\"Enter the name of student or exit\")\n",
    "    if student_name==\"exit\":\n",
    "        break\n",
    "    physics=int(input(\"enter marks obtains in physics:\"))\n",
    "    maths=int(input(\"enter marks obtains in maths:\"))\n",
    "    biology=int(input(\"enter marks obtains in biology:\"))\n",
    "    nepali=int(input(\"enter marks obtains in nepali:\"))\n",
    "    total=physics+maths+nepali+biology\n",
    "    per=total/4\n",
    "    if per>=90:\n",
    "        print(\"student has got A+\")\n",
    "    elif per>=80:\n",
    "        print(\"student has got A\")\n",
    "    elif per>=70:\n",
    "        print(\"student has got B+\")\n",
    "    elif per>=60:\n",
    "        print(\"student has got B\")\n",
    "    elif per>=50:\n",
    "        print(\"student has got C+\")\n",
    "    elif per>=400:\n",
    "        print(\"student has got C\")\n",
    "    else:print(\"student is fail\")\n",
    "    "
   ]
  },
  {
   "cell_type": "code",
   "execution_count": 3,
   "id": "ad8075ec",
   "metadata": {},
   "outputs": [
    {
     "ename": "SyntaxError",
     "evalue": "incomplete input (1065732779.py, line 4)",
     "output_type": "error",
     "traceback": [
      "\u001b[1;36m  Cell \u001b[1;32mIn[3], line 4\u001b[1;36m\u001b[0m\n\u001b[1;33m    print(k\u001b[0m\n\u001b[1;37m           ^\u001b[0m\n\u001b[1;31mSyntaxError\u001b[0m\u001b[1;31m:\u001b[0m incomplete input\n"
     ]
    }
   ],
   "source": [
    "for i in range(1,3,1):\n",
    "    for j in range(1,5,1):\n",
    "        for k in range(1,4,1):\n",
    "            print(k)"
   ]
  },
  {
   "cell_type": "code",
   "execution_count": 9,
   "id": "0b5e7c04",
   "metadata": {},
   "outputs": [
    {
     "name": "stdout",
     "output_type": "stream",
     "text": [
      "1 \n",
      "1 2 \n",
      "1 2 3 \n",
      "1 2 3 4 \n",
      "1 2 3 4 5 \n"
     ]
    }
   ],
   "source": [
    "i=1\n",
    "while i<=5:\n",
    "    j=1\n",
    "    while j<=i:\n",
    "        print(j,end=\" \")\n",
    "        j=j+1\n",
    "    print()\n",
    "    i=i+1"
   ]
  },
  {
   "cell_type": "code",
   "execution_count": 10,
   "id": "b0a0ea6c",
   "metadata": {},
   "outputs": [
    {
     "name": "stdout",
     "output_type": "stream",
     "text": [
      "* \n",
      "* * \n",
      "* * * \n",
      "* * * * \n",
      "* * * * * \n"
     ]
    }
   ],
   "source": [
    "i=1\n",
    "while i<=5:\n",
    "    j=1\n",
    "    while j<=i:\n",
    "        print(\"*\",end=\" \")\n",
    "        j=j+1\n",
    "    print()\n",
    "    i=i+1"
   ]
  },
  {
   "cell_type": "code",
   "execution_count": 1,
   "id": "73ddebb4",
   "metadata": {},
   "outputs": [
    {
     "name": "stdout",
     "output_type": "stream",
     "text": [
      "* \n",
      "* * \n",
      "* * * \n",
      "* * * * \n",
      "* * * * * \n"
     ]
    }
   ],
   "source": [
    "i=1\n",
    "while i<=5:\n",
    "    n=1\n",
    "    while n<=5-i:\n",
    "        print(\"\",end=\"\")\n",
    "        n=n+1\n",
    "    j=1\n",
    "    while j<=i:\n",
    "        print(\"*\",end=\" \")\n",
    "        j=j+1\n",
    "    print()\n",
    "    i=i+1"
   ]
  },
  {
   "cell_type": "code",
   "execution_count": 5,
   "id": "2dcc5a68",
   "metadata": {},
   "outputs": [
    {
     "name": "stdout",
     "output_type": "stream",
     "text": [
      "        * \n",
      "      * * \n",
      "    * * * \n",
      "  * * * * \n",
      "* * * * * \n"
     ]
    }
   ],
   "source": [
    "i=1\n",
    "while i<=5:\n",
    "    n=1\n",
    "    while n<=5-i:\n",
    "        print(\" \",end=\" \")\n",
    "        n=n+1\n",
    "    j=1\n",
    "    while j<=i:\n",
    "        print(\"*\",end=\" \")\n",
    "        j=j+1\n",
    "    print()\n",
    "    i=i+1"
   ]
  },
  {
   "cell_type": "code",
   "execution_count": null,
   "id": "2dc16817",
   "metadata": {},
   "outputs": [],
   "source": []
  }
 ],
 "metadata": {
  "kernelspec": {
   "display_name": "Python 3 (ipykernel)",
   "language": "python",
   "name": "python3"
  },
  "language_info": {
   "codemirror_mode": {
    "name": "ipython",
    "version": 3
   },
   "file_extension": ".py",
   "mimetype": "text/x-python",
   "name": "python",
   "nbconvert_exporter": "python",
   "pygments_lexer": "ipython3",
   "version": "3.10.9"
  }
 },
 "nbformat": 4,
 "nbformat_minor": 5
}
