{
 "cells": [
  {
   "cell_type": "code",
   "execution_count": 6,
   "id": "621b5b08",
   "metadata": {},
   "outputs": [
    {
     "name": "stdout",
     "output_type": "stream",
     "text": [
      "enter a number:3\n",
      "6\n"
     ]
    }
   ],
   "source": [
    "s=1\n",
    "n=int(input(\"enter a number:\"))\n",
    "if n>=0:\n",
    "    for i in range(1,n+1):\n",
    "        s=s*i\n",
    "    print(s)\n",
    "else:\n",
    "    print(\"please enter the value greater then 0\")"
   ]
  },
  {
   "cell_type": "code",
   "execution_count": 3,
   "id": "53352b62",
   "metadata": {},
   "outputs": [
    {
     "name": "stdout",
     "output_type": "stream",
     "text": [
      "2* 1 = 2\n",
      "2* 2 = 4\n",
      "2* 3 = 6\n",
      "2* 4 = 8\n",
      "2* 5 = 10\n",
      "2* 6 = 12\n",
      "2* 7 = 14\n",
      "2* 8 = 16\n",
      "2* 9 = 18\n",
      "2* 10 = 20\n"
     ]
    }
   ],
   "source": [
    "for i in range(1,11):\n",
    "    print(\"2*\",i,\"=\",2*i)\n"
   ]
  },
  {
   "cell_type": "code",
   "execution_count": 23,
   "id": "90a48a3e",
   "metadata": {},
   "outputs": [
    {
     "name": "stdout",
     "output_type": "stream",
     "text": [
      "1\n",
      "1\n",
      "2\n",
      "1\n",
      "2\n",
      "3\n",
      "1\n",
      "2\n",
      "3\n",
      "4\n",
      "\n"
     ]
    }
   ],
   "source": [
    "for i in range(1,5,1):\n",
    "    for j in range(1,i+1):\n",
    "        print(j)\n",
    "print()\n",
    "    "
   ]
  },
  {
   "cell_type": "code",
   "execution_count": 20,
   "id": "bfedf29b",
   "metadata": {},
   "outputs": [
    {
     "name": "stdout",
     "output_type": "stream",
     "text": [
      "\n",
      "o\n",
      "oo\n",
      "ooo\n"
     ]
    }
   ],
   "source": [
    "for i in range(4):\n",
    "    print(i*\"o\")"
   ]
  },
  {
   "cell_type": "code",
   "execution_count": 27,
   "id": "20ce7e9d",
   "metadata": {},
   "outputs": [
    {
     "name": "stdout",
     "output_type": "stream",
     "text": [
      "\n",
      "o\n",
      "oo\n",
      "ooo\n",
      "oooo\n",
      "ooooo\n",
      "oooooo\n",
      "ooooooo\n",
      "oooooo\n",
      "ooooo\n",
      "oooo\n",
      "ooo\n",
      "oo\n",
      "o\n",
      "o\n",
      "oo\n",
      "ooo\n",
      "oooo\n",
      "ooooo\n",
      "oooooo\n",
      "ooooooo\n",
      "oooooo\n",
      "ooooo\n",
      "oooo\n",
      "ooo\n",
      "oo\n",
      "o\n"
     ]
    }
   ],
   "source": [
    "for i in range(7):\n",
    "    print(i*\"o\")\n",
    "for i in range(7,0,-1):\n",
    "    print(i*\"o\")\n",
    "for i in range(1,7):\n",
    "    print(i*\"o\")\n",
    "for i in range(7,0,-1):\n",
    "    print(i*\"o\")"
   ]
  },
  {
   "cell_type": "code",
   "execution_count": 28,
   "id": "97abed53",
   "metadata": {},
   "outputs": [],
   "source": [
    "#break\n",
    "#continue\n",
    "#pass"
   ]
  },
  {
   "cell_type": "code",
   "execution_count": null,
   "id": "cddfd45a",
   "metadata": {},
   "outputs": [],
   "source": [
    "#pa"
   ]
  }
 ],
 "metadata": {
  "kernelspec": {
   "display_name": "Python 3 (ipykernel)",
   "language": "python",
   "name": "python3"
  },
  "language_info": {
   "codemirror_mode": {
    "name": "ipython",
    "version": 3
   },
   "file_extension": ".py",
   "mimetype": "text/x-python",
   "name": "python",
   "nbconvert_exporter": "python",
   "pygments_lexer": "ipython3",
   "version": "3.10.9"
  }
 },
 "nbformat": 4,
 "nbformat_minor": 5
}
