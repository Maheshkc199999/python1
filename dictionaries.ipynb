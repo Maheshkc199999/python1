{
 "cells": [
  {
   "cell_type": "code",
   "execution_count": 1,
   "id": "213a1d09",
   "metadata": {},
   "outputs": [],
   "source": [
    "# indexing\n",
    "# multiple data\n",
    "# ordered\n",
    "# mutable"
   ]
  },
  {
   "cell_type": "code",
   "execution_count": 2,
   "id": "6031453a",
   "metadata": {},
   "outputs": [],
   "source": [
    "# d = {<key>:<value>,<key>:<value>}"
   ]
  },
  {
   "cell_type": "code",
   "execution_count": 3,
   "id": "b6a10622",
   "metadata": {},
   "outputs": [],
   "source": [
    "# d = dict()\n",
    "# d = {}\n",
    "# defining empty dictionary"
   ]
  },
  {
   "cell_type": "code",
   "execution_count": 4,
   "id": "8cac1807",
   "metadata": {},
   "outputs": [
    {
     "data": {
      "text/plain": [
       "{'a': 'apple', 'b': 'ball'}"
      ]
     },
     "execution_count": 4,
     "metadata": {},
     "output_type": "execute_result"
    }
   ],
   "source": [
    "d = {}\n",
    "d['a']=\"apple\"\n",
    "d['b']=\"ball\"\n",
    "d"
   ]
  },
  {
   "cell_type": "code",
   "execution_count": 5,
   "id": "28c2664f",
   "metadata": {},
   "outputs": [
    {
     "data": {
      "text/plain": [
       "{'a': 'apple', 'b': 'Apple', 'c': 'cat'}"
      ]
     },
     "execution_count": 5,
     "metadata": {},
     "output_type": "execute_result"
    }
   ],
   "source": [
    "a ={'a':\"apple\",'b':\"ball\",'c':\"cat\"}\n",
    "a['b']=\"Apple\"\n",
    "a"
   ]
  },
  {
   "cell_type": "code",
   "execution_count": 7,
   "id": "52b78377",
   "metadata": {},
   "outputs": [
    {
     "data": {
      "text/plain": [
       "{'a': 'apple', 'b': 'ball', 'c': 'cat', 'd': 'cammel'}"
      ]
     },
     "execution_count": 7,
     "metadata": {},
     "output_type": "execute_result"
    }
   ],
   "source": [
    "a = {'a':\"apple\",'b':\"ball\",'c':\"cat\"}\n",
    "a['d']=\"cammel\"\n",
    "a"
   ]
  },
  {
   "cell_type": "code",
   "execution_count": 8,
   "id": "8bdc56ae",
   "metadata": {},
   "outputs": [
    {
     "name": "stdout",
     "output_type": "stream",
     "text": [
      "a\n",
      "b\n",
      "c\n"
     ]
    }
   ],
   "source": [
    "a = {'a':\"apple\",'b':\"ball\",'c':\"cat\"}\n",
    "for i in a:\n",
    "    print(i)"
   ]
  },
  {
   "cell_type": "code",
   "execution_count": 9,
   "id": "7e8a96d8",
   "metadata": {},
   "outputs": [
    {
     "name": "stdout",
     "output_type": "stream",
     "text": [
      "apple\n",
      "ball\n",
      "cat\n"
     ]
    }
   ],
   "source": [
    "a = {'a':\"apple\",'b':\"ball\",'c':\"cat\"}\n",
    "for i in a.values():\n",
    "    print(i)"
   ]
  },
  {
   "cell_type": "code",
   "execution_count": 10,
   "id": "f0391a24",
   "metadata": {},
   "outputs": [
    {
     "name": "stdout",
     "output_type": "stream",
     "text": [
      "('a', 'apple')\n",
      "('b', 'ball')\n",
      "('c', 'cat')\n"
     ]
    }
   ],
   "source": [
    "a = {'a':\"apple\",'b':\"ball\",'c':\"cat\"}\n",
    "for i in a.items():\n",
    "    print(i)"
   ]
  },
  {
   "cell_type": "code",
   "execution_count": 11,
   "id": "b0c06ca0",
   "metadata": {},
   "outputs": [
    {
     "name": "stdout",
     "output_type": "stream",
     "text": [
      "enter the value n: 3\n",
      "enter the name: mahesh\n",
      "enter the phone number: 8888\n",
      "enter the name: naresh\n",
      "enter the phone number: 999\n",
      "enter the name: disnesh\n",
      "enter the phone number: 888\n",
      "{'mahesh': 8888, 'naresh': 999, 'disnesh': 888}\n"
     ]
    }
   ],
   "source": [
    "d = {}\n",
    "n = int(input(\"enter the value n: \"))\n",
    "for i in range(n):\n",
    "    name = input(\"enter the name: \")\n",
    "    ph_no =int(input(\"enter the phone number: \"))\n",
    "    d[name]=ph_no\n",
    "print(d)\n"
   ]
  },
  {
   "cell_type": "code",
   "execution_count": 12,
   "id": "4238e7ba",
   "metadata": {},
   "outputs": [],
   "source": [
    "# no + *\n"
   ]
  },
  {
   "cell_type": "code",
   "execution_count": 14,
   "id": "28b9dcba",
   "metadata": {},
   "outputs": [
    {
     "data": {
      "text/plain": [
       "{'d': 'cammel', 'e': 'egg', 'a': 'apple', 'b': 'ball', 'c': 'cat'}"
      ]
     },
     "execution_count": 14,
     "metadata": {},
     "output_type": "execute_result"
    }
   ],
   "source": [
    "a = {'a':\"apple\",'b':\"ball\",'c':\"cat\"}\n",
    "b = {'d':\"cammel\",'e':\"egg\"}\n",
    "b.update(a)\n",
    "b"
   ]
  },
  {
   "cell_type": "code",
   "execution_count": 15,
   "id": "39f9f160",
   "metadata": {},
   "outputs": [
    {
     "data": {
      "text/plain": [
       "{'b': 'ball', 'c': 'cat'}"
      ]
     },
     "execution_count": 15,
     "metadata": {},
     "output_type": "execute_result"
    }
   ],
   "source": [
    "c = {'d': 'cammel', 'e': 'egg', 'a': 'apple', 'b': 'ball', 'c': 'cat'}\n",
    "del a['a']\n",
    "a"
   ]
  },
  {
   "cell_type": "code",
   "execution_count": 18,
   "id": "5b7a221e",
   "metadata": {},
   "outputs": [
    {
     "name": "stdout",
     "output_type": "stream",
     "text": [
      "{'d': 'cammel', 'e': 'egg', 'b': 'ball', 'c': 'cat'}\n"
     ]
    },
    {
     "data": {
      "text/plain": [
       "'apple'"
      ]
     },
     "execution_count": 18,
     "metadata": {},
     "output_type": "execute_result"
    }
   ],
   "source": [
    "a = {'d': 'cammel', 'e': 'egg', 'a': 'apple', 'b': 'ball', 'c': 'cat'}\n",
    "b = a.pop(\"a\")\n",
    "print(a)\n",
    "b"
   ]
  },
  {
   "cell_type": "code",
   "execution_count": 19,
   "id": "ab83ba8d",
   "metadata": {},
   "outputs": [],
   "source": [
    "# list inside dictionary"
   ]
  },
  {
   "cell_type": "code",
   "execution_count": 20,
   "id": "dff8409e",
   "metadata": {},
   "outputs": [
    {
     "data": {
      "text/plain": [
       "{'ram': [9990909090, 989898080], 'hari': [998989999, 998989898]}"
      ]
     },
     "execution_count": 20,
     "metadata": {},
     "output_type": "execute_result"
    }
   ],
   "source": [
    "a = {'ram':[9990909090,989898080],'hari':[998989999,998989898]}\n",
    "a"
   ]
  },
  {
   "cell_type": "code",
   "execution_count": 21,
   "id": "01fdc0a7",
   "metadata": {},
   "outputs": [
    {
     "data": {
      "text/plain": [
       "9990909090"
      ]
     },
     "execution_count": 21,
     "metadata": {},
     "output_type": "execute_result"
    }
   ],
   "source": [
    "a['ram'][0]"
   ]
  },
  {
   "cell_type": "code",
   "execution_count": 22,
   "id": "69a6a503",
   "metadata": {},
   "outputs": [
    {
     "name": "stdout",
     "output_type": "stream",
     "text": [
      "{'ram': [9990909090, 998989898998], 'hari': [998989999, 998989898]}\n"
     ]
    }
   ],
   "source": [
    "a['ram'][1]=998989898998\n",
    "print(a)"
   ]
  },
  {
   "cell_type": "code",
   "execution_count": 23,
   "id": "51383e29",
   "metadata": {},
   "outputs": [
    {
     "name": "stdout",
     "output_type": "stream",
     "text": [
      "enter the value n: 2\n",
      "enter the name: ram\n",
      "enter the phone number: 8888\n",
      "enter the phone number: 99999\n",
      "enter the name: shyam\n",
      "enter the phone number: 9998\n",
      "enter the phone number: 9990\n",
      "{'ram': [8888, 99999], 'shyam': [9998, 9990]}\n"
     ]
    }
   ],
   "source": [
    "d = {}\n",
    "n = int(input(\"enter the value n: \"))\n",
    "for i in range(n):\n",
    "    name = input(\"enter the name: \")\n",
    "    ph_no1 =int(input(\"enter the phone number: \"))\n",
    "    ph_no2 =int(input(\"enter the phone number: \"))\n",
    "    d[name]=[ph_no1,ph_no2]\n",
    "print(d)\n"
   ]
  },
  {
   "cell_type": "code",
   "execution_count": 25,
   "id": "9e83c0b7",
   "metadata": {},
   "outputs": [],
   "source": [
    "a = {'a':\"apple\",'b':\"ball\",'c':\"cat\"}"
   ]
  },
  {
   "cell_type": "code",
   "execution_count": 27,
   "id": "3ec21c61",
   "metadata": {},
   "outputs": [
    {
     "name": "stdout",
     "output_type": "stream",
     "text": [
      "ram,\n",
      "22\n",
      "dhangadi\n"
     ]
    }
   ],
   "source": [
    "data = {'name':[\"ram\",\"shyam\",\"hari\"],\n",
    "       'age':[22,33,44],\n",
    "        \"add\":[\"dhangadi\",\"doti\",\"tikapur\"]}\n",
    "print(data['name'][0])\n",
    "print(data['age'][0])\n",
    "print(data['add'][0])\n"
   ]
  },
  {
   "cell_type": "code",
   "execution_count": null,
   "id": "1ff31f50",
   "metadata": {},
   "outputs": [],
   "source": []
  },
  {
   "cell_type": "code",
   "execution_count": 3,
   "id": "a9dd2a2a",
   "metadata": {},
   "outputs": [
    {
     "ename": "KeyError",
     "evalue": "0",
     "output_type": "error",
     "traceback": [
      "\u001b[1;31m---------------------------------------------------------------------------\u001b[0m",
      "\u001b[1;31mKeyError\u001b[0m                                  Traceback (most recent call last)",
      "Cell \u001b[1;32mIn[3], line 5\u001b[0m\n\u001b[0;32m      1\u001b[0m data \u001b[38;5;241m=\u001b[39m {\u001b[38;5;124m'\u001b[39m\u001b[38;5;124mname\u001b[39m\u001b[38;5;124m'\u001b[39m:[\u001b[38;5;124m\"\u001b[39m\u001b[38;5;124mram\u001b[39m\u001b[38;5;124m\"\u001b[39m,\u001b[38;5;124m\"\u001b[39m\u001b[38;5;124mshyam\u001b[39m\u001b[38;5;124m\"\u001b[39m,\u001b[38;5;124m\"\u001b[39m\u001b[38;5;124mhari\u001b[39m\u001b[38;5;124m\"\u001b[39m],\n\u001b[0;32m      2\u001b[0m        \u001b[38;5;124m'\u001b[39m\u001b[38;5;124mage\u001b[39m\u001b[38;5;124m'\u001b[39m:[\u001b[38;5;241m22\u001b[39m,\u001b[38;5;241m33\u001b[39m,\u001b[38;5;241m44\u001b[39m],\n\u001b[0;32m      3\u001b[0m         \u001b[38;5;124m\"\u001b[39m\u001b[38;5;124madd\u001b[39m\u001b[38;5;124m\"\u001b[39m:[\u001b[38;5;124m\"\u001b[39m\u001b[38;5;124mdhangadi\u001b[39m\u001b[38;5;124m\"\u001b[39m,\u001b[38;5;124m\"\u001b[39m\u001b[38;5;124mdoti\u001b[39m\u001b[38;5;124m\"\u001b[39m,\u001b[38;5;124m\"\u001b[39m\u001b[38;5;124mtikapur\u001b[39m\u001b[38;5;124m\"\u001b[39m]}\n\u001b[0;32m      4\u001b[0m i\u001b[38;5;241m=\u001b[39m\u001b[38;5;241m0\u001b[39m\n\u001b[1;32m----> 5\u001b[0m \u001b[38;5;28;01mwhile\u001b[39;00m i \u001b[38;5;241m<\u001b[39m\u001b[38;5;241m=\u001b[39m \u001b[43mdata\u001b[49m\u001b[43m[\u001b[49m\u001b[43mi\u001b[49m\u001b[43m]\u001b[49m:\n\u001b[0;32m      6\u001b[0m     \u001b[38;5;28;01mif\u001b[39;00m \u001b[38;5;124m'\u001b[39m\u001b[38;5;124mram\u001b[39m\u001b[38;5;124m'\u001b[39m\u001b[38;5;241m==\u001b[39mi:\n\u001b[0;32m      7\u001b[0m         \u001b[38;5;28mprint\u001b[39m(data[\u001b[38;5;124m'\u001b[39m\u001b[38;5;124mname\u001b[39m\u001b[38;5;124m'\u001b[39m][i])\n",
      "\u001b[1;31mKeyError\u001b[0m: 0"
     ]
    }
   ],
   "source": [
    "data = {'name':[\"ram\",\"shyam\",\"hari\"],\n",
    "       'age':[22,33,44],\n",
    "        \"add\":[\"dhangadi\",\"doti\",\"tikapur\"]}\n",
    "i=0\n",
    "while i <= data[i]:\n",
    "    if 'ram'==i:\n",
    "        print(data['name'][i])\n",
    "        print(data['age'][i])\n",
    "        print(data['add'][i])\n",
    "    i+=1"
   ]
  },
  {
   "cell_type": "code",
   "execution_count": 8,
   "id": "ef1c764f",
   "metadata": {},
   "outputs": [
    {
     "name": "stdout",
     "output_type": "stream",
     "text": [
      "shyam\n",
      "33\n",
      "doti\n"
     ]
    }
   ],
   "source": [
    "data = {'name':[\"ram\",\"shyam\",\"hari\"],\n",
    "       'age':[22,33,44],\n",
    "        \"add\":[\"dhangadi\",\"doti\",\"tikapur\"]}\n",
    "c=0\n",
    "for i in data['name']:\n",
    "    if \"shyam\"==i:\n",
    "        print(data['name'][c])\n",
    "        print(data['age'][c])\n",
    "        print(data['add'][c])\n",
    "    c+=1\n",
    "        \n",
    "        \n",
    "        \n",
    "        "
   ]
  },
  {
   "cell_type": "code",
   "execution_count": 2,
   "id": "c284d783",
   "metadata": {},
   "outputs": [],
   "source": [
    "# wap to create dict inside dict with crud\n",
    "# wap to create list inside dict with crud\n",
    "# wap to create dict inside iist with crud"
   ]
  },
  {
   "cell_type": "code",
   "execution_count": 1,
   "id": "1e6ec01a",
   "metadata": {
    "scrolled": true
   },
   "outputs": [
    {
     "name": "stdout",
     "output_type": "stream",
     "text": [
      "enter n: 3\n",
      "enter name: mahesh\n",
      "Enter age: 5\n",
      "enter add: 3\n",
      "enter name: naresh\n",
      "Enter age: 4\n",
      "enter add: 5\n",
      "enter name: suresh\n",
      "Enter age: 4\n",
      "enter add: 5\n",
      "{'name': ['mahesh', 'naresh', 'suresh'], 'age': [5, 4, 4], 'add': ['3', '5', '5']}\n"
     ]
    }
   ],
   "source": [
    "# wap to create list inside dict with crud\n",
    "d = {'name':[], 'age':[],'add':[]}\n",
    "n = int(input(\"enter n: \"))\n",
    "for i in range(n):\n",
    "    name = input(\"enter name: \")\n",
    "    age = int(input(\"Enter age: \"))\n",
    "    add = input(\"enter add: \")\n",
    "    d['name'].append(name)\n",
    "    d['age'].append(age)\n",
    "    d['add'].append(add)\n",
    "print(d)"
   ]
  },
  {
   "cell_type": "code",
   "execution_count": null,
   "id": "2937d608",
   "metadata": {},
   "outputs": [],
   "source": [
    "# wap to create dict inside dict with crud\n",
    "d = []\n",
    "n = int(input(\"enter n: \"))\n",
    "for i in range(n):\n",
    "    name = input(\"Enter tha name: \")\n",
    "    age = int(input(\"Enter age: \"))\n",
    "    add = input(\"Enter add: \")\n",
    "    data = {'name':name,'age':age,'add':add}\n",
    "    d.append(data)\n",
    "print(d)"
   ]
  },
  {
   "cell_type": "code",
   "execution_count": null,
   "id": "9ac15d5d",
   "metadata": {},
   "outputs": [],
   "source": [
    "d = {}\n",
    "n = int(input(\"enter n: \"))\n",
    "for i in range(n):\n",
    "     name = input(\"Enter tha name: \")\n",
    "    age = int(input(\"Enter age: \"))\n",
    "    add = input(\"Enter add: \")\n",
    "    d[i] = {'name':name,'age':age,'add':add}\n",
    "print(d)\n",
    "    \n",
    "  "
   ]
  },
  {
   "cell_type": "code",
   "execution_count": null,
   "id": "342dc9b7",
   "metadata": {},
   "outputs": [],
   "source": []
  }
 ],
 "metadata": {
  "kernelspec": {
   "display_name": "Python 3 (ipykernel)",
   "language": "python",
   "name": "python3"
  },
  "language_info": {
   "codemirror_mode": {
    "name": "ipython",
    "version": 3
   },
   "file_extension": ".py",
   "mimetype": "text/x-python",
   "name": "python",
   "nbconvert_exporter": "python",
   "pygments_lexer": "ipython3",
   "version": "3.10.9"
  }
 },
 "nbformat": 4,
 "nbformat_minor": 5
}
